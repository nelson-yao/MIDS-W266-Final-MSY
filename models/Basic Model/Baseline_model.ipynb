{
 "cells": [
  {
   "cell_type": "code",
   "execution_count": 1,
   "metadata": {
    "collapsed": false
   },
   "outputs": [],
   "source": [
    "from __future__ import division \n",
    "# This tells matplotlib not to try opening a new window for each plot.\n",
    "#%matplotlib inline\n",
    "\n",
    "# General libraries.\n",
    "import os\n",
    "import codecs\n",
    "import json\n",
    "import csv\n",
    "\n",
    "import re\n",
    "import numpy as np\n",
    "import pandas as pd\n",
    "import matplotlib.pyplot as plt\n",
    "import scipy\n",
    "import glob\n",
    "import pickle\n",
    "import time\n",
    "# SK-learn libraries for learning.\n",
    "import sklearn\n",
    "from sklearn.pipeline import Pipeline\n",
    "from sklearn.neighbors import KNeighborsClassifier\n",
    "from sklearn.linear_model import LogisticRegression\n",
    "from sklearn.naive_bayes import BernoulliNB\n",
    "from sklearn.naive_bayes import MultinomialNB\n",
    "from sklearn.ensemble import RandomForestClassifier\n",
    "\n",
    "# SK-learn libraries for evaluation.\n",
    "from sklearn.metrics import confusion_matrix\n",
    "from sklearn import metrics\n",
    "from sklearn.metrics import classification_report\n",
    "\n",
    "# SK-learn library for importing the newsgroup data.\n",
    "from sklearn.datasets import fetch_20newsgroups\n",
    "\n",
    "# SK-learn libraries for feature extraction from text.\n",
    "from sklearn.feature_extraction.text import *\n",
    "from sklearn.feature_selection import SelectKBest\n",
    "from sklearn.feature_selection import chi2\n",
    "from sklearn.decomposition import NMF\n",
    "\n",
    "from nltk.stem import WordNetLemmatizer\n",
    "import nltk"
   ]
  },
  {
   "cell_type": "code",
   "execution_count": 4,
   "metadata": {
    "collapsed": false
   },
   "outputs": [],
   "source": [
    "%%time\n",
    "data=pickle.load(open(\"../../Objects/Fulldata_wY_correct\", 'rb'))\n",
    "data=data.drop([\"Unnamed: 0\"], axis=1)"
   ]
  },
  {
   "cell_type": "code",
   "execution_count": 9,
   "metadata": {
    "collapsed": false
   },
   "outputs": [
    {
     "name": "stdout",
     "output_type": "stream",
     "text": [
      "CPU times: user 20.1 s, sys: 0 ns, total: 20.1 s\n",
      "Wall time: 32.4 s\n"
     ]
    }
   ],
   "source": [
    "%%time\n",
    "wordnet_lemmatizer = WordNetLemmatizer()\n",
    "lemmatized_text=[wordnet_lemmatizer.lemmatize(text) for text in data.text]"
   ]
  },
  {
   "cell_type": "code",
   "execution_count": 10,
   "metadata": {
    "collapsed": false
   },
   "outputs": [
    {
     "data": {
      "text/plain": [
       "\"\\n\\nTEXT:\\nCheck the appropriate box below if the Form 8-K filing is intended to simultaneously satisfy the filing obligation of the registrant under any of the following provisions (General Instruction A.2. below):\\nsee\\nItem 2.02 Results of Operations and Financial Condition\\nOn December 17, 2009, Accenture issued a press release announcing financial results for its first quarter of fiscal year 2010, which fiscal quarter ended on November 30, 2009.\\nA copy of the press release is attached hereto as Exhibit 99.1. All information in the press release is furnished but not filed.\\nNon-GAAP Financial Information\\nIn the attached press release Accenture discloses the following non-GAAP financial measures:\\nReconciliations of these non-GAAP financial measures to the most directly comparable financial measures calculated and presented in accordance with GAAP are included in the press release. While Accenture's management believes that this non-GAAP financial information is useful in evaluating Accentu\""
      ]
     },
     "execution_count": 10,
     "metadata": {},
     "output_type": "execute_result"
    }
   ],
   "source": [
    "lemmatized_text[0][0:1000]"
   ]
  },
  {
   "cell_type": "code",
   "execution_count": 11,
   "metadata": {
    "collapsed": false
   },
   "outputs": [
    {
     "data": {
      "text/plain": [
       "(37502, 35786)"
      ]
     },
     "execution_count": 11,
     "metadata": {},
     "output_type": "execute_result"
    }
   ],
   "source": [
    "%%time\n",
    "vectorizer1=CountVectorizer(stop_words='english', min_df=10)\n",
    "text_vector=vectorizer1.fit_transform(lemmatized_text)\n",
    "text_vector.shape"
   ]
  },
  {
   "cell_type": "code",
   "execution_count": 12,
   "metadata": {
    "collapsed": true
   },
   "outputs": [],
   "source": [
    "pickle.dump(text_vector, open(\"../../Objects/Text_vector_lemmatized\", 'wb'))"
   ]
  },
  {
   "cell_type": "code",
   "execution_count": 18,
   "metadata": {
    "collapsed": false
   },
   "outputs": [
    {
     "name": "stdout",
     "output_type": "stream",
     "text": [
      "CPU times: user 836 ms, sys: 180 ms, total: 1.02 s\n",
      "Wall time: 2.17 s\n"
     ]
    }
   ],
   "source": [
    "%%time\n",
    "##  select top features using feature selection packages\n",
    "labels=data.label\n",
    "ktop=SelectKBest(chi2, k=3000).fit_transform(text_vector, labels)\n",
    "ktop.shape"
   ]
  },
  {
   "cell_type": "code",
   "execution_count": 20,
   "metadata": {
    "collapsed": false
   },
   "outputs": [
    {
     "name": "stdout",
     "output_type": "stream",
     "text": [
      "CPU times: user 8min 58s, sys: 36.1 s, total: 9min 34s\n",
      "Wall time: 13min 53s\n"
     ]
    }
   ],
   "source": [
    "%%time\n",
    "## Non-negative factorization of the top unigram features, with 100 dimensions\n",
    "model100 = NMF(n_components=100, init='random', random_state=1, alpha=.1, l1_ratio=.5)\n",
    "topVec100 = model100.fit_transform(ktop)\n",
    "\n"
   ]
  },
  {
   "cell_type": "markdown",
   "metadata": {},
   "source": [
    "### Random Forest model using only the text features"
   ]
  },
  {
   "cell_type": "code",
   "execution_count": 42,
   "metadata": {
    "collapsed": false
   },
   "outputs": [
    {
     "data": {
      "text/html": [
       "<div>\n",
       "<table border=\"1\" class=\"dataframe\">\n",
       "  <thead>\n",
       "    <tr style=\"text-align: right;\">\n",
       "      <th></th>\n",
       "      <th>Date</th>\n",
       "      <th>label</th>\n",
       "      <th>0</th>\n",
       "      <th>1</th>\n",
       "      <th>2</th>\n",
       "      <th>3</th>\n",
       "      <th>4</th>\n",
       "      <th>5</th>\n",
       "      <th>6</th>\n",
       "      <th>7</th>\n",
       "      <th>...</th>\n",
       "      <th>90</th>\n",
       "      <th>91</th>\n",
       "      <th>92</th>\n",
       "      <th>93</th>\n",
       "      <th>94</th>\n",
       "      <th>95</th>\n",
       "      <th>96</th>\n",
       "      <th>97</th>\n",
       "      <th>98</th>\n",
       "      <th>99</th>\n",
       "    </tr>\n",
       "  </thead>\n",
       "  <tbody>\n",
       "    <tr>\n",
       "      <th>0</th>\n",
       "      <td>2009-12-17 00:00:00</td>\n",
       "      <td>DOWN</td>\n",
       "      <td>0</td>\n",
       "      <td>0</td>\n",
       "      <td>0</td>\n",
       "      <td>0.684804</td>\n",
       "      <td>0.278163</td>\n",
       "      <td>0.751668</td>\n",
       "      <td>0</td>\n",
       "      <td>0.0451815</td>\n",
       "      <td>...</td>\n",
       "      <td>0.0881711</td>\n",
       "      <td>0.0294431</td>\n",
       "      <td>0</td>\n",
       "      <td>0.131948</td>\n",
       "      <td>0.0180724</td>\n",
       "      <td>0</td>\n",
       "      <td>0.972815</td>\n",
       "      <td>0</td>\n",
       "      <td>0</td>\n",
       "      <td>0.347473</td>\n",
       "    </tr>\n",
       "    <tr>\n",
       "      <th>1</th>\n",
       "      <td>2009-12-17 00:00:00</td>\n",
       "      <td>UP</td>\n",
       "      <td>0</td>\n",
       "      <td>0</td>\n",
       "      <td>0.124732</td>\n",
       "      <td>0.526862</td>\n",
       "      <td>0.0510855</td>\n",
       "      <td>0.116285</td>\n",
       "      <td>0</td>\n",
       "      <td>0</td>\n",
       "      <td>...</td>\n",
       "      <td>0.124763</td>\n",
       "      <td>0.0367622</td>\n",
       "      <td>0</td>\n",
       "      <td>0.172028</td>\n",
       "      <td>0</td>\n",
       "      <td>0.00507936</td>\n",
       "      <td>0.860997</td>\n",
       "      <td>0.00239063</td>\n",
       "      <td>0</td>\n",
       "      <td>0.160223</td>\n",
       "    </tr>\n",
       "    <tr>\n",
       "      <th>2</th>\n",
       "      <td>2009-12-17 00:00:00</td>\n",
       "      <td>STAY</td>\n",
       "      <td>0</td>\n",
       "      <td>0</td>\n",
       "      <td>0.0841313</td>\n",
       "      <td>0.525951</td>\n",
       "      <td>0.207595</td>\n",
       "      <td>0.104889</td>\n",
       "      <td>0</td>\n",
       "      <td>0.00700761</td>\n",
       "      <td>...</td>\n",
       "      <td>0.347984</td>\n",
       "      <td>0.0627882</td>\n",
       "      <td>0.0159936</td>\n",
       "      <td>0.0976504</td>\n",
       "      <td>0</td>\n",
       "      <td>0</td>\n",
       "      <td>0.33123</td>\n",
       "      <td>0.00204289</td>\n",
       "      <td>0</td>\n",
       "      <td>0.22133</td>\n",
       "    </tr>\n",
       "  </tbody>\n",
       "</table>\n",
       "<p>3 rows × 102 columns</p>\n",
       "</div>"
      ],
      "text/plain": [
       "                  Date label  0  1          2         3          4         5  \\\n",
       "0  2009-12-17 00:00:00  DOWN  0  0          0  0.684804   0.278163  0.751668   \n",
       "1  2009-12-17 00:00:00    UP  0  0   0.124732  0.526862  0.0510855  0.116285   \n",
       "2  2009-12-17 00:00:00  STAY  0  0  0.0841313  0.525951   0.207595  0.104889   \n",
       "\n",
       "   6           7    ...            90         91         92         93  \\\n",
       "0  0   0.0451815    ...     0.0881711  0.0294431          0   0.131948   \n",
       "1  0           0    ...      0.124763  0.0367622          0   0.172028   \n",
       "2  0  0.00700761    ...      0.347984  0.0627882  0.0159936  0.0976504   \n",
       "\n",
       "          94          95        96          97 98        99  \n",
       "0  0.0180724           0  0.972815           0  0  0.347473  \n",
       "1          0  0.00507936  0.860997  0.00239063  0  0.160223  \n",
       "2          0           0   0.33123  0.00204289  0   0.22133  \n",
       "\n",
       "[3 rows x 102 columns]"
      ]
     },
     "execution_count": 42,
     "metadata": {},
     "output_type": "execute_result"
    }
   ],
   "source": [
    "alldata=pd.DataFrame(np.hstack((data.as_matrix(), topVec100)))\n",
    "alldata.columns=np.array(['Company', 'ticker', 'Surprise', 'Reported_EPS', 'Consensus_EPS',\n",
    "       'Date', 'timestamp', 'bow', 'items', 'text', 'orig_file',\n",
    "       'release_time_type', 'return', 'stock_performance',\n",
    "       'market_performance', 'normalized_performance', 'label']+range(100))\n",
    "allfeatures=alldata.drop([\"Company\", \"ticker\",'bow', 'orig_file', 'stock_performance', \\\n",
    "                              'market_performance', 'normalized_performance', 'text',\\\n",
    "                          'timestamp' , 'Reported_EPS', 'Consensus_EPS', \"items\", \"return\", 'Surprise', 'release_time_type'], axis=1).dropna(axis=0, how=\"any\")\n",
    "allfeatures.head(3)"
   ]
  },
  {
   "cell_type": "code",
   "execution_count": 43,
   "metadata": {
    "collapsed": false
   },
   "outputs": [],
   "source": [
    "train_data = allfeatures.loc[allfeatures.Date < pd.to_datetime('2009-01-01'), :].drop(['Date', 'label'], axis=1)\n",
    "dev_data = allfeatures.loc[(allfeatures.Date >= pd.to_datetime('2009-01-01')) & \\\n",
    "                           (allfeatures.Date <= pd.to_datetime('2010-12-31')), :].drop(['Date', 'label'], axis=1)\n",
    "test_data = allfeatures.loc[allfeatures.Date >= pd.to_datetime('2011-01-01'), :].drop(['Date'], axis=1)\n",
    "test_label=test_data['label']\n",
    "test_data=test_data.drop([\"label\"], axis=1)\n",
    "\n",
    "train_label=allfeatures.loc[allfeatures.Date < pd.to_datetime('2009-01-01'), \"label\"]\n",
    "dev_label = allfeatures.loc[(allfeatures.Date >= pd.to_datetime('2009-01-01')) & \\\n",
    "                           (allfeatures.Date <= pd.to_datetime('2010-12-31')), 'label']\n"
   ]
  },
  {
   "cell_type": "code",
   "execution_count": 44,
   "metadata": {
    "collapsed": false
   },
   "outputs": [
    {
     "name": "stdout",
     "output_type": "stream",
     "text": [
      "(17500, 100) (9774, 100) (10228, 100)\n"
     ]
    }
   ],
   "source": [
    "print train_data.shape, dev_data.shape, test_data.shape"
   ]
  },
  {
   "cell_type": "code",
   "execution_count": 45,
   "metadata": {
    "collapsed": false
   },
   "outputs": [],
   "source": [
    "rf=RandomForestClassifier(n_estimators=2000)\n",
    "model_text=rf.fit(train_data, train_label)"
   ]
  },
  {
   "cell_type": "code",
   "execution_count": 49,
   "metadata": {
    "collapsed": false
   },
   "outputs": [
    {
     "name": "stdout",
     "output_type": "stream",
     "text": [
      "[[ 0.21997135  0.03345611  0.12308165]\n",
      " [ 0.15418457  0.06281973  0.07530182]\n",
      " [ 0.18252507  0.03652548  0.11213423]]\n",
      "F-score : 0.380\n",
      "Accuracy : 0.395\n"
     ]
    }
   ],
   "source": [
    "%%time\n",
    "# Dev set accuracy\n",
    "preds_dev = model_text.predict(dev_data)\n",
    "F_Score_dev = metrics.f1_score(dev_label, preds_dev, average='weighted')\n",
    "#model_output(pred_probas, F_Score, preds)\n",
    "conf_dev=confusion_matrix(dev_label.values, preds_dev,labels=[\"UP\", \"STAY\", \"DOWN\"] , )\n",
    "print(conf_dev/len(preds_dev))\n",
    "print(\"F-score : {:3.3f}\".format(F_Score_dev))\n",
    "print(\"Accuracy : {:3.3f}\".format(np.sum(preds_dev==dev_label)/len(dev_label)))"
   ]
  },
  {
   "cell_type": "code",
   "execution_count": 50,
   "metadata": {
    "collapsed": false
   },
   "outputs": [
    {
     "name": "stdout",
     "output_type": "stream",
     "text": [
      "[[ 0.04908095  0.07723895  0.19710598]\n",
      " [ 0.03363316  0.13306609  0.1622018 ]\n",
      " [ 0.04487681  0.07714118  0.22565506]]\n",
      "F-score : 0.381\n",
      "Accuracy : 0.408\n"
     ]
    }
   ],
   "source": [
    "# Test set accuracy\n",
    "preds_test = model_text.predict(test_data)\n",
    "F_Score_test = metrics.f1_score(test_label, preds_test, average='weighted')\n",
    "pred_probas = model_text.predict_proba(test_data)\n",
    "#model_output(pred_probas, F_Score, preds)\n",
    "conf_test=confusion_matrix(test_label, preds_test)\n",
    "print(conf_test/len(preds_test))\n",
    "print(\"F-score : {:3.3f}\".format(F_Score_test))\n",
    "print(\"Accuracy : {:3.3f}\".format(np.sum(preds_test==test_label)/len(test_label)))"
   ]
  },
  {
   "cell_type": "markdown",
   "metadata": {},
   "source": [
    "### Random Forest model using text features combined with EPS surprises\n"
   ]
  },
  {
   "cell_type": "code",
   "execution_count": 36,
   "metadata": {
    "collapsed": false
   },
   "outputs": [
    {
     "data": {
      "text/html": [
       "<div>\n",
       "<table border=\"1\" class=\"dataframe\">\n",
       "  <thead>\n",
       "    <tr style=\"text-align: right;\">\n",
       "      <th></th>\n",
       "      <th>Surprise</th>\n",
       "      <th>Date</th>\n",
       "      <th>release_time_type</th>\n",
       "      <th>label</th>\n",
       "      <th>0</th>\n",
       "      <th>1</th>\n",
       "      <th>2</th>\n",
       "      <th>3</th>\n",
       "      <th>4</th>\n",
       "      <th>5</th>\n",
       "      <th>...</th>\n",
       "      <th>90</th>\n",
       "      <th>91</th>\n",
       "      <th>92</th>\n",
       "      <th>93</th>\n",
       "      <th>94</th>\n",
       "      <th>95</th>\n",
       "      <th>96</th>\n",
       "      <th>97</th>\n",
       "      <th>98</th>\n",
       "      <th>99</th>\n",
       "    </tr>\n",
       "  </thead>\n",
       "  <tbody>\n",
       "    <tr>\n",
       "      <th>0</th>\n",
       "      <td>3.08</td>\n",
       "      <td>2009-12-17 00:00:00</td>\n",
       "      <td>3</td>\n",
       "      <td>DOWN</td>\n",
       "      <td>0</td>\n",
       "      <td>0</td>\n",
       "      <td>0</td>\n",
       "      <td>0.684804</td>\n",
       "      <td>0.278163</td>\n",
       "      <td>0.751668</td>\n",
       "      <td>...</td>\n",
       "      <td>0.0881711</td>\n",
       "      <td>0.0294431</td>\n",
       "      <td>0</td>\n",
       "      <td>0.131948</td>\n",
       "      <td>0.0180724</td>\n",
       "      <td>0</td>\n",
       "      <td>0.972815</td>\n",
       "      <td>0</td>\n",
       "      <td>0</td>\n",
       "      <td>0.347473</td>\n",
       "    </tr>\n",
       "    <tr>\n",
       "      <th>1</th>\n",
       "      <td>25</td>\n",
       "      <td>2009-12-17 00:00:00</td>\n",
       "      <td>1</td>\n",
       "      <td>UP</td>\n",
       "      <td>0</td>\n",
       "      <td>0</td>\n",
       "      <td>0.124732</td>\n",
       "      <td>0.526862</td>\n",
       "      <td>0.0510855</td>\n",
       "      <td>0.116285</td>\n",
       "      <td>...</td>\n",
       "      <td>0.124763</td>\n",
       "      <td>0.0367622</td>\n",
       "      <td>0</td>\n",
       "      <td>0.172028</td>\n",
       "      <td>0</td>\n",
       "      <td>0.00507936</td>\n",
       "      <td>0.860997</td>\n",
       "      <td>0.00239063</td>\n",
       "      <td>0</td>\n",
       "      <td>0.160223</td>\n",
       "    </tr>\n",
       "    <tr>\n",
       "      <th>2</th>\n",
       "      <td>2.38</td>\n",
       "      <td>2009-12-17 00:00:00</td>\n",
       "      <td>3</td>\n",
       "      <td>STAY</td>\n",
       "      <td>0</td>\n",
       "      <td>0</td>\n",
       "      <td>0.0841313</td>\n",
       "      <td>0.525951</td>\n",
       "      <td>0.207595</td>\n",
       "      <td>0.104889</td>\n",
       "      <td>...</td>\n",
       "      <td>0.347984</td>\n",
       "      <td>0.0627882</td>\n",
       "      <td>0.0159936</td>\n",
       "      <td>0.0976504</td>\n",
       "      <td>0</td>\n",
       "      <td>0</td>\n",
       "      <td>0.33123</td>\n",
       "      <td>0.00204289</td>\n",
       "      <td>0</td>\n",
       "      <td>0.22133</td>\n",
       "    </tr>\n",
       "    <tr>\n",
       "      <th>3</th>\n",
       "      <td>3.77</td>\n",
       "      <td>2009-12-17 00:00:00</td>\n",
       "      <td>1</td>\n",
       "      <td>DOWN</td>\n",
       "      <td>0</td>\n",
       "      <td>0</td>\n",
       "      <td>0</td>\n",
       "      <td>0.410618</td>\n",
       "      <td>0</td>\n",
       "      <td>0.00467109</td>\n",
       "      <td>...</td>\n",
       "      <td>0.317526</td>\n",
       "      <td>0.0354484</td>\n",
       "      <td>0</td>\n",
       "      <td>0.151472</td>\n",
       "      <td>0</td>\n",
       "      <td>0</td>\n",
       "      <td>0.17213</td>\n",
       "      <td>0</td>\n",
       "      <td>0</td>\n",
       "      <td>0</td>\n",
       "    </tr>\n",
       "    <tr>\n",
       "      <th>4</th>\n",
       "      <td>6.94</td>\n",
       "      <td>2009-12-17 00:00:00</td>\n",
       "      <td>1</td>\n",
       "      <td>UP</td>\n",
       "      <td>0</td>\n",
       "      <td>0</td>\n",
       "      <td>0</td>\n",
       "      <td>0.201398</td>\n",
       "      <td>0</td>\n",
       "      <td>0.251613</td>\n",
       "      <td>...</td>\n",
       "      <td>0.611339</td>\n",
       "      <td>0.0729158</td>\n",
       "      <td>0</td>\n",
       "      <td>0.230406</td>\n",
       "      <td>0</td>\n",
       "      <td>0</td>\n",
       "      <td>0.439413</td>\n",
       "      <td>0</td>\n",
       "      <td>0.0123564</td>\n",
       "      <td>0.731953</td>\n",
       "    </tr>\n",
       "  </tbody>\n",
       "</table>\n",
       "<p>5 rows × 104 columns</p>\n",
       "</div>"
      ],
      "text/plain": [
       "  Surprise                 Date release_time_type label  0  1          2  \\\n",
       "0     3.08  2009-12-17 00:00:00                 3  DOWN  0  0          0   \n",
       "1       25  2009-12-17 00:00:00                 1    UP  0  0   0.124732   \n",
       "2     2.38  2009-12-17 00:00:00                 3  STAY  0  0  0.0841313   \n",
       "3     3.77  2009-12-17 00:00:00                 1  DOWN  0  0          0   \n",
       "4     6.94  2009-12-17 00:00:00                 1    UP  0  0          0   \n",
       "\n",
       "          3          4           5    ...            90         91         92  \\\n",
       "0  0.684804   0.278163    0.751668    ...     0.0881711  0.0294431          0   \n",
       "1  0.526862  0.0510855    0.116285    ...      0.124763  0.0367622          0   \n",
       "2  0.525951   0.207595    0.104889    ...      0.347984  0.0627882  0.0159936   \n",
       "3  0.410618          0  0.00467109    ...      0.317526  0.0354484          0   \n",
       "4  0.201398          0    0.251613    ...      0.611339  0.0729158          0   \n",
       "\n",
       "          93         94          95        96          97         98        99  \n",
       "0   0.131948  0.0180724           0  0.972815           0          0  0.347473  \n",
       "1   0.172028          0  0.00507936  0.860997  0.00239063          0  0.160223  \n",
       "2  0.0976504          0           0   0.33123  0.00204289          0   0.22133  \n",
       "3   0.151472          0           0   0.17213           0          0         0  \n",
       "4   0.230406          0           0  0.439413           0  0.0123564  0.731953  \n",
       "\n",
       "[5 rows x 104 columns]"
      ]
     },
     "execution_count": 36,
     "metadata": {},
     "output_type": "execute_result"
    }
   ],
   "source": [
    "alldata=pd.DataFrame(np.hstack((data.as_matrix(), topVec100)))\n",
    "alldata.columns=np.array(['Company', 'ticker', 'Surprise', 'Reported_EPS', 'Consensus_EPS',\n",
    "       'Date', 'timestamp', 'bow', 'items', 'text', 'orig_file',\n",
    "       'release_time_type', 'return', 'stock_performance',\n",
    "       'market_performance', 'normalized_performance', 'label']+range(100))\n",
    "allfeatures=alldata.drop([\"Company\", \"ticker\",'bow', 'orig_file', 'stock_performance', \\\n",
    "                              'market_performance', 'normalized_performance', 'text',\\\n",
    "                          'timestamp' , 'Reported_EPS', 'Consensus_EPS', \"items\", \"return\"], axis=1).dropna(axis=0, how=\"any\")\n",
    "allfeatures.head()"
   ]
  },
  {
   "cell_type": "code",
   "execution_count": 37,
   "metadata": {
    "collapsed": false
   },
   "outputs": [],
   "source": [
    "train_data = allfeatures.loc[allfeatures.Date < pd.to_datetime('2009-01-01'), :].drop(['Date', 'label'], axis=1)\n",
    "dev_data = allfeatures.loc[(allfeatures.Date >= pd.to_datetime('2009-01-01')) & \\\n",
    "                           (allfeatures.Date <= pd.to_datetime('2010-12-31')), :].drop(['Date', 'label'], axis=1)\n",
    "test_data = allfeatures.loc[allfeatures.Date >= pd.to_datetime('2011-01-01'), :].drop(['Date'], axis=1)\n",
    "test_label=test_data['label']\n",
    "test_data=test_data.drop([\"label\"], axis=1)\n",
    "\n",
    "train_label=allfeatures.loc[allfeatures.Date < pd.to_datetime('2009-01-01'), \"label\"]\n",
    "dev_label = allfeatures.loc[(allfeatures.Date >= pd.to_datetime('2009-01-01')) & \\\n",
    "                           (allfeatures.Date <= pd.to_datetime('2010-12-31')), 'label']\n"
   ]
  },
  {
   "cell_type": "code",
   "execution_count": 39,
   "metadata": {
    "collapsed": false
   },
   "outputs": [
    {
     "name": "stdout",
     "output_type": "stream",
     "text": [
      "(17449, 102) (9715, 102) (10191, 102)\n"
     ]
    }
   ],
   "source": [
    "print train_data.shape, dev_data.shape, test_data.shape"
   ]
  },
  {
   "cell_type": "code",
   "execution_count": null,
   "metadata": {
    "collapsed": false
   },
   "outputs": [],
   "source": [
    "rf=RandomForestClassifier(n_estimators=2000)\n",
    "model_lem=rf.fit(train_data, train_label)"
   ]
  },
  {
   "cell_type": "code",
   "execution_count": 141,
   "metadata": {
    "collapsed": false
   },
   "outputs": [
    {
     "name": "stdout",
     "output_type": "stream",
     "text": [
      "[[ 0.299228    0.01791045  0.05898096]\n",
      " [ 0.16222337  0.04632012  0.08378796]\n",
      " [ 0.13772517  0.02367473  0.17014925]]\n",
      "F-score : 0.481\n",
      "Accuracy : 0.516\n"
     ]
    }
   ],
   "source": [
    "# Dev set accuracy\n",
    "preds_dev = model_lem.predict(dev_data)\n",
    "F_Score_dev = metrics.f1_score(dev_label, preds, average='weighted')\n",
    "pred_probas_dev = model_lem.predict_proba(dev_data)\n",
    "#model_output(pred_probas, F_Score, preds)\n",
    "conf_dev=confusion_matrix(dev_label.values, preds_dev,labels=[\"UP\", \"STAY\", \"DOWN\"] , )\n",
    "print(conf_dev/len(preds_dev))\n",
    "print(\"F-score : {:3.3f}\".format(F_Score_dev))\n",
    "print(\"Accuracy : {:3.3f}\".format(np.sum(preds_dev==dev_label)/len(dev_label)))"
   ]
  },
  {
   "cell_type": "code",
   "execution_count": 148,
   "metadata": {
    "collapsed": false
   },
   "outputs": [
    {
     "name": "stdout",
     "output_type": "stream",
     "text": [
      "[[ 0.1627907   0.06083799  0.10028456]\n",
      " [ 0.08419193  0.10695712  0.13757237]\n",
      " [ 0.04631538  0.0456285   0.25542145]]\n",
      "F-score : 0.512\n",
      "Accuracy : 0.525\n"
     ]
    }
   ],
   "source": [
    "# Test set accuracy\n",
    "preds_test = model.predict(test_data)\n",
    "F_Score_test = metrics.f1_score(test_label, preds_test, average='weighted')\n",
    "pred_probas = model.predict_proba(test_data)\n",
    "#model_output(pred_probas, F_Score, preds)\n",
    "conf_test=confusion_matrix(test_label, preds_test)\n",
    "print(conf_test/len(preds_test))\n",
    "print(\"F-score : {:3.3f}\".format(F_Score_test))\n",
    "print(\"Accuracy : {:3.3f}\".format(np.sum(preds_test==test_label)/len(test_label)))"
   ]
  }
 ],
 "metadata": {
  "kernelspec": {
   "display_name": "Python 2",
   "language": "python",
   "name": "python2"
  },
  "language_info": {
   "codemirror_mode": {
    "name": "ipython",
    "version": 2
   },
   "file_extension": ".py",
   "mimetype": "text/x-python",
   "name": "python",
   "nbconvert_exporter": "python",
   "pygments_lexer": "ipython2",
   "version": "2.7.12"
  }
 },
 "nbformat": 4,
 "nbformat_minor": 1
}
