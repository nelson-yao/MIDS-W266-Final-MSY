{
 "cells": [
  {
   "cell_type": "markdown",
   "metadata": {},
   "source": [
    "## Word Embeddings Usage\n",
    "\n",
    "The following notebook provides an example of how to use the GloVe word embeddings"
   ]
  },
  {
   "cell_type": "code",
   "execution_count": 1,
   "metadata": {
    "collapsed": true
   },
   "outputs": [],
   "source": [
    "from glove import list_corpora, GloVe"
   ]
  },
  {
   "cell_type": "code",
   "execution_count": 2,
   "metadata": {
    "collapsed": false
   },
   "outputs": [
    {
     "data": {
      "text/plain": [
       "['glove.6B.100d.txt', 'glove.6B.300d.txt']"
      ]
     },
     "execution_count": 2,
     "metadata": {},
     "output_type": "execute_result"
    }
   ],
   "source": [
    "# Let's check which we have available to load:\n",
    "list_corpora()"
   ]
  },
  {
   "cell_type": "markdown",
   "metadata": {},
   "source": [
    "Let's load one up (it may take 10~30 secs):"
   ]
  },
  {
   "cell_type": "code",
   "execution_count": 3,
   "metadata": {
    "collapsed": false
   },
   "outputs": [
    {
     "name": "stdout",
     "output_type": "stream",
     "text": [
      "CPU times: user 12.1 s, sys: 405 ms, total: 12.5 s\n",
      "Wall time: 12.6 s\n"
     ]
    }
   ],
   "source": [
    "%%time\n",
    "glove_100 = GloVe('glove.6B.100d.txt')"
   ]
  },
  {
   "cell_type": "markdown",
   "metadata": {},
   "source": [
    "To use it, simply use the created object as a function:"
   ]
  },
  {
   "cell_type": "code",
   "execution_count": 4,
   "metadata": {
    "collapsed": false
   },
   "outputs": [
    {
     "data": {
      "text/plain": [
       "array([ 0.51793 ,  0.39619 ,  0.24721 , -0.58441 , -0.15856 , -0.11021 ,\n",
       "        0.2165  ,  0.42365 , -0.30057 , -0.62318 , -0.39794 ,  0.83691 ,\n",
       "        0.90121 , -0.59203 , -0.44309 ,  0.51618 ,  0.48423 , -0.11309 ,\n",
       "        0.20911 , -0.019158,  0.75972 , -0.030758, -0.089237, -1.2704  ,\n",
       "        0.62395 ,  0.56869 , -1.0596  , -0.36014 ,  0.28037 ,  0.051358,\n",
       "       -0.45614 , -0.32677 ,  0.39745 , -0.36342 ,  0.90313 ,  0.62632 ,\n",
       "       -1.2037  ,  0.59268 ,  0.27586 ,  0.3832  ,  0.4349  ,  0.090867,\n",
       "       -0.057095, -1.3353  , -0.10759 , -0.098484, -0.44971 , -0.50626 ,\n",
       "        0.49266 , -1.0391  , -0.60598 ,  0.051916,  0.50066 ,  0.69696 ,\n",
       "        0.20687 , -1.4953  , -0.44241 ,  0.69164 ,  1.0389  ,  0.18459 ,\n",
       "        0.43204 ,  0.95015 ,  0.52371 ,  1.2069  ,  1.1042  ,  0.59043 ,\n",
       "       -0.53926 , -0.19029 ,  0.40553 ,  0.52851 , -0.32235 ,  0.037868,\n",
       "        0.096931,  0.34555 ,  0.31035 ,  0.14606 ,  0.24622 ,  0.17258 ,\n",
       "       -0.51114 , -0.40038 ,  0.33752 ,  0.22339 , -0.054845,  0.4452  ,\n",
       "       -0.1311  , -0.28827 , -0.99069 , -0.24142 ,  0.37346 , -0.20881 ,\n",
       "       -0.80666 , -1.0341  ,  0.26464 ,  0.40334 , -0.53687 , -0.5935  ,\n",
       "       -0.51444 , -0.13857 ,  0.93482 , -0.40917 ])"
      ]
     },
     "execution_count": 4,
     "metadata": {},
     "output_type": "execute_result"
    }
   ],
   "source": [
    "glove_100('Horse')  # don't worry about caps, it takes care of that underneath :)"
   ]
  },
  {
   "cell_type": "code",
   "execution_count": 6,
   "metadata": {
    "collapsed": false
   },
   "outputs": [
    {
     "data": {
      "text/plain": [
       "array([-0.15403425,  0.1311775 ,  0.6940125 , -0.4511275 , -0.02695125,\n",
       "        0.2023175 , -0.164427  ,  0.331105  , -0.03169975,  0.021312  ,\n",
       "       -0.1525325 ,  0.280465  ,  0.583015  ,  0.157438  , -0.09868625,\n",
       "       -0.49449   ,  0.5432425 ,  0.26635525, -0.319415  ,  0.40299   ,\n",
       "       -0.073005  , -0.013545  , -0.0281525 ,  0.3051575 ,  0.19588   ,\n",
       "        0.18169   , -0.161713  , -0.7129675 ,  0.202615  , -0.1986585 ,\n",
       "       -0.106845  ,  0.8631725 ,  0.18748825,  0.2182125 ,  0.134485  ,\n",
       "        0.46497   , -0.01965675,  0.29275025,  0.07980625, -0.44652   ,\n",
       "       -0.1187225 , -0.098975  ,  0.4871975 , -0.644945  , -0.1427275 ,\n",
       "        0.06987025,  0.11880725, -0.30476653, -0.06591475, -0.7963875 ,\n",
       "        0.029137  , -0.10626   ,  0.3438655 ,  1.111795  , -0.40016425,\n",
       "       -2.6886    , -0.1745875 , -0.00356175,  1.558585  ,  0.403416  ,\n",
       "        0.23798   ,  1.053205  , -0.277719  ,  0.02741353,  1.0417775 ,\n",
       "        0.0882325 ,  0.5384275 ,  0.4167725 ,  0.056225  , -0.3561216 ,\n",
       "        0.08592025, -0.1840175 , -0.03601   , -0.584745  ,  0.395415  ,\n",
       "        0.0676775 , -0.10291375, -0.003444  , -0.927445  , -0.06382425,\n",
       "        0.29046975, -0.23756875, -0.50638   , -0.13647575, -1.424475  ,\n",
       "       -0.3036125 , -0.04296575, -0.4083975 ,  0.230655  , -0.3017255 ,\n",
       "       -0.3074875 ,  0.0512435 ,  0.155805  ,  0.2237275 , -0.3474503 ,\n",
       "       -0.0492875 , -0.17783225, -0.7465025 ,  0.5283625 ,  0.4721045 ])"
      ]
     },
     "execution_count": 6,
     "metadata": {},
     "output_type": "execute_result"
    }
   ],
   "source": [
    "# we can pass a whole text as well, and it will output the centroid of all the words\n",
    "glove_100('My name is Will')"
   ]
  },
  {
   "cell_type": "code",
   "execution_count": null,
   "metadata": {
    "collapsed": true
   },
   "outputs": [],
   "source": []
  }
 ],
 "metadata": {
  "kernelspec": {
   "display_name": "Python [conda env:nlp]",
   "language": "python",
   "name": "conda-env-nlp-py"
  },
  "language_info": {
   "codemirror_mode": {
    "name": "ipython",
    "version": 2
   },
   "file_extension": ".py",
   "mimetype": "text/x-python",
   "name": "python",
   "nbconvert_exporter": "python",
   "pygments_lexer": "ipython2",
   "version": "2.7.12"
  }
 },
 "nbformat": 4,
 "nbformat_minor": 1
}
