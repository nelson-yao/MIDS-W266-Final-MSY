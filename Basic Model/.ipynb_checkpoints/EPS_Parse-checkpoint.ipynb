{
 "cells": [
  {
   "cell_type": "code",
   "execution_count": null,
   "metadata": {
    "collapsed": true
   },
   "outputs": [],
   "source": [
    "import pandas as pd\n",
    "\n",
    "\n",
    "def parse_EPS_file(filepath):\n",
    "    \"\"\" Parses a given EPS html file (does not have to have a html extension) \"\"\"\n",
    "    with open(filepath, 'r') as f:\n",
    "        raw = f.read()\n",
    "\n",
    "    # Trim the page to restrict to only one table\n",
    "    raw_1table = raw.split('U.S. Earnings')[-1]\n",
    "\n",
    "    # Find the HTML table\n",
    "    _start = raw_1table.index('<table')\n",
    "    _stop = raw_1table.index('</table>') + 8\n",
    "    html_table = raw_1table[_start : _stop]\n",
    "\n",
    "    # Parse the HTML table\n",
    "    try:\n",
    "        data = pd.read_html(html_table)[0]\n",
    "    except:\n",
    "        return None\n",
    "\n",
    "    # Clean the table of internal headers and spaces, remove unnecessary columns\n",
    "    parsed_EPS = data.loc[~data.ix[:, 1].isin([pd.np.nan, 'Symbol']), data.columns[:5]]\n",
    "    parsed_EPS.columns = ['Company', 'Symbol', 'Surprise', 'Reported_EPS', 'Consensus_EPS']\n",
    "\n",
    "    # Add date based on the filename\n",
    "    parsed_EPS['Date'] = pd.to_datetime(filepath.split('/')[-1].split('.')[0], format='%Y%m%d')\n",
    "\n",
    "    return parsed_EPS"
   ]
  }
 ],
 "metadata": {
  "kernelspec": {
   "display_name": "Python 2",
   "language": "python",
   "name": "python2"
  },
  "language_info": {
   "codemirror_mode": {
    "name": "ipython",
    "version": 2
   },
   "file_extension": ".py",
   "mimetype": "text/x-python",
   "name": "python",
   "nbconvert_exporter": "python",
   "pygments_lexer": "ipython2",
   "version": "2.7.12"
  }
 },
 "nbformat": 4,
 "nbformat_minor": 0
}
