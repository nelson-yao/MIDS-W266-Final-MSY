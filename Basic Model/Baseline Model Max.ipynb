{
 "cells": [
  {
   "cell_type": "code",
   "execution_count": 1,
   "metadata": {
    "collapsed": false
   },
   "outputs": [],
   "source": [
    "import numpy as np\n",
    "from sklearn.metrics import confusion_matrix\n",
    "from sklearn.ensemble import RandomForestClassifier\n",
    "# SK-learn libraries for feature extraction from text.\n",
    "from sklearn.feature_extraction.text import *\n",
    "import pandas as pd\n",
    "import pickle\n",
    "\n",
    "data = pickle.load(open(\"/Users/Maximus/downloads/Fulldata_combined_w_eps\", \"rb\"))\n",
    "\n",
    "market_data = pickle.load(open(\"/Users/Maximus/downloads/market_data\", \"rb\"))"
   ]
  },
  {
   "cell_type": "markdown",
   "metadata": {},
   "source": [
    "## Create Label from market and stock return (UP, STAY, DOWN)"
   ]
  },
  {
   "cell_type": "code",
   "execution_count": 2,
   "metadata": {
    "collapsed": false
   },
   "outputs": [],
   "source": [
    "##########Drop Columns not used#########\n",
    "data = data.drop(['Before Market', 'During Market', 'After Market','High','Low','Close','Volume',\\\n",
    "                  'Open', 'Adj Close'], axis=1)\n",
    "\n",
    "#########Combine stock return with market return\n",
    "combined = pd.merge(data, market_data[['Date', 'Market Before', 'Market During', 'Market After' ]],\\\n",
    "                    how='left', on=['Date'])\n",
    "\n",
    "#########Select market return based on report release time####\n",
    "combined['market_performance'] = 0\n",
    "combined['market_performance'] = \\\n",
    "  combined.release_time_type.apply(lambda x: 1 if x ==1 else 0)*combined['Market Before']\\\n",
    "+ combined.release_time_type.apply(lambda x: 1 if x ==2 else 0)*combined['Market During']\\\n",
    "+ combined.release_time_type.apply(lambda x: 1 if x ==3 else 0)*combined['Market After']\n",
    "\n",
    "combined = combined.drop(['Market Before', 'Market During', 'Market After'], axis=1)\n",
    "\n",
    "\n",
    "#Finally, create the label for our model.  A normalized return by taking the difference\n",
    "#between stock return and market return.  If the difference >  1%: UP\n",
    "#                                                           < -1%: DOWN\n",
    "#                                                            else: STAY\n",
    "############################################################################################################\n",
    "combined['normalized_performance'] = combined.stock_performance - combined.market_performance\n",
    "combined['label'] = combined.normalized_performance\n",
    "combined['label'] = combined.label.apply(lambda x: 'UP' if x >1 else x)\n",
    "combined['label'] = combined.label.apply(lambda x: 'DOWN' if (isinstance(x, str) == 0 and x <-1) else x)\n",
    "combined['label'] = combined.label.apply(lambda x: x if isinstance(x, str) else 'STAY')"
   ]
  },
  {
   "cell_type": "code",
   "execution_count": 3,
   "metadata": {
    "collapsed": false
   },
   "outputs": [
    {
     "data": {
      "text/plain": [
       "Timestamp('2002-11-01 00:00:00')"
      ]
     },
     "execution_count": 3,
     "metadata": {},
     "output_type": "execute_result"
    }
   ],
   "source": [
    "# 8-K reports for all S&P 500 companies between 2002 and 2012, with the last two years (2011-2012)\n",
    "#reserved for the final evaluation, the previous two (2009-2010) for development, and the remainder for training.\n",
    "#combined.loc[combined.Date == '2009-12-17',:]\n",
    "combined.Date.min()"
   ]
  },
  {
   "cell_type": "code",
   "execution_count": 6,
   "metadata": {
    "collapsed": false
   },
   "outputs": [
    {
     "data": {
      "text/plain": [
       "'\\n\\nTEXT:\\nCheck the appropriate box below if the Form 8-K filing is intended to simultaneously satisfy the filing obligation of the registrant under any of the following provisions (General Instruction A.2. below):\\nsee\\nItem 2.02 Results of Operations and Financial Condition\\nOn December 17, 2009, Accenture issued a press release announcing financial results for its first quarter of fiscal year 2010, which fiscal quarter ended on November 30, 2009.\\nA copy of the press release is attached hereto as Exhibit 99.1. All information in the press release is furnished but not filed.\\nNon-GAAP Financial Information\\nIn the attached press release Accenture discloses the following non-GAAP financial measures:\\nReconciliations of these non-GAAP financial measures to the most directly comparable financial measures calculated and presented in accordance with GAAP are included in the press release. While Accenture\\'s management believes that this non-GAAP financial information is useful in evaluating Accenture\\'s operations, this information should be considered as supplemental in nature and not as a substitute for the related financial information prepared in accordance with GAAP.\\nItem 9.01 Financial Statements and Exhibits\\n(d) Exhibits\\n99.1   Press Release of Accenture, dated December 17, 2009\\nPursuant to the requirements of the Securities Exchange Act of 1934, the registrant has duly caused this report to be signed on its behalf by the undersigned thereunto duly authorized.\\n\\nExhibit 99.1\\nNEW YORK; Dec. 17, 2009  Accenture (NYSE: ACN) reported financial results for the first quarter of fiscal 2010, ended Nov. 30, 2009, with net revenues of $5.38 billion, a decrease of 11 percent in U.S. dollars and 12 percent in local currency from the same period last year and within the company\\'s guided range. Diluted earnings per share were $0.67.\\nOperating income was $746 million, and operating margin was 13.9 percent.\\nNew bookings for the quarter were $5.53 billion, with consulting bookings of $3.51 billion and outsourcing bookings of $2.02 billion.\\nWilliam D. Green, Accenture\\'s chairman & CEO, said, \"We continued to drive our business with discipline and a focus on execution, as well as with an eye to the future. We generated revenue within our expected range, delivered strong operating margin, ended the quarter with a cash balance of $4 billion after paying our annual dividend, and maintained our solid balance sheet.\\n\"We are seeing building momentum in key areas of our business. Consulting bookings of $3.5 billion, growing pipelines and broadly heightened levels of activity are encouraging signs. We have mobilized to capture this opportunity. The demand for high performance from our clients is accelerating.\"\\nFinancial Review\\nRevenues before reimbursements (\"net revenues\") for the first quarter of fiscal 2010 were $5.38 billion, compared with $6.02 billion in the first quarter of fiscal 2009, a decrease of 11 percent in U.S. dollars and 12 percent in local currency. Net revenues for the first quarter of fiscal 2010 reflect a foreign-exchange impact of positive 1 percent.\\nDiluted EPS for the first quarter of fiscal 2010 were $0.67, a decrease of $0.07 from the first quarter of fiscal 2009, broken down as:\\n    offset by:\\nOperating income for the first quarter was $746 million, or 13.9 percent of net revenues, compared with $815 million, or 13.5 percent of net revenues, for the first quarter of fiscal 2009. Gross margin (gross profit as a percentage of net revenues) for the first quarter was 33.1 percent, compared with 31.4 percent for the first quarter last year. Selling, general and administrative (SG&A) expenses for the first quarter were $1.03 billion, or 19.2 percent of net revenues, compared with $1.07 billion, or 17.8 percent of net revenues, for the first quarter last year. SG&A expenses in the first quarter last year included a $72 million provision for bad debt. The change in gross margin and in SG&A as a percentage of net revenues compared with the first quarter last year was primarily due to a change related to the recent implementation of the company\\'s sales-effectiveness model. This reclassification had no overall impact on operating expense or operating margin.\\nThe company\\'s effective tax rate for the first quarter was 30.5 percent, compared with 26.6 percent for the first quarter last year, which was lower primarily as a result of final determinations of prior-year tax liabilities recorded in that quarter.\\nNet income before noncontrolling interests (previously \"Income before minority interest\") for the first quarter was $525 million, compared with $593 million for the same period of fiscal 2009, a decrease of 12 percent.\\nOperating cash flow for the first quarter was $219 million, and property and equipment additions were $35 million. Free cash flow, defined as operating cash flow net of property and equipment additions, was $184 million. For the same period last year, operating cash flow was $468 million; property and equipment additions were $72 million; and free cash flow was $396 million. The reduction in free cash flow compared with the first quarter last year was driven primarily by an increase in days services outstanding from Aug. 31, 2009.\\nDays services outstanding, or DSOs, were 32 at Nov. 30, 2009, compared with 28 at Aug. 31, 2009, and 36 at Nov. 30, 2008.\\nAccenture\\'s total cash balance at Nov. 30, 2009 was $4.00 billion, compared with $4.54 billion at Aug. 31, 2009. The company paid a cash dividend to shareholders in November totaling more than $550 million.\\nUtilization for the first quarter of fiscal 2010 was 88 percent, compared with 83 percent for the first quarter last year. Attrition for the quarter was 12 percent, compared with 13 percent for the same period last year.\\nNew Bookings\\nNew bookings for the first quarter were $5.53 billion. This reflects a positive 3 percent foreign-currency impact when compared to new bookings in the first quarter last year.\\nNet Revenues by Operating Group\\nAccenture\\'s business continues to be affected by global economic conditions, with all operating groups except Health & Public Service experiencing local-currency revenue declines during the first quarter. Accenture\\'s strong results in the first quarter last fiscal year  which included local-currency revenue growth of 9 percent  were achieved prior to the company feeling the effects, beginning in January, of the global economic downturn.\\nNet revenues by operating group for the first quarter were as follows:\\n*On Sept. 1, 2009, the Company formed the Health & Public Service operating group by combining various healthcare-related components of its Products operating group with its Public Service operating group. Prior-period amounts have been reclassified to conform to the current-period presentation.\\nNet Revenues by Geographic Region\\nNet revenues by geographic region for the first quarter were as follows:\\nShare Repurchase Activity\\nDuring the first quarter of fiscal 2010, Accenture repurchased or redeemed 11.8 million shares for a total of $451 million, including 250,000 shares repurchased in the open market. Accenture\\'s total remaining share repurchase authority at Nov. 30, 2009, was approximately $4.5 billion.\\nAt Nov. 30, 2009, Accenture had approximately 730 million total shares outstanding, including 632 million Accenture plc Class A ordinary shares and 98 million Accenture SCA Class I common shares and Accenture Canada Holding, Inc. exchangeable shares.\\nDividend\\nOn Nov. 16, 2009, a cash dividend of $0.75 per share was paid on Accenture plc Class A ordinary shares to shareholders of record at the close of business on Oct. 16, 2009. On Nov. 16, 2009, a cash dividend of $0.75 per share was also paid on Accenture SCA Class I common shares to shareholders of record at the close of business on Oct. 13, 2009.\\nAs previously announced, the company plans to declare and pay cash dividends on a semi-annual basis beginning in the third quarter of fiscal 2010.\\nBusiness Outlook\\nSecond Quarter Fiscal 2010\\nAccenture expects net revenues for the second quarter of fiscal 2010 to be in the range of $5.1 billion to $5.3 billion. This range assumes a foreign-exchange impact of positive 7 percent compared with the second quarter of fiscal 2009.\\nFull Fiscal Year 2010\\nThe company\\'s revised business outlook for the full fiscal year assumes a foreign-exchange impact of positive 5 percent compared with fiscal 2009. The company\\'s previous business outlook for the year assumed a foreign-exchange impact of positive 4 percent.\\nAccenture continues to target new bookings for fiscal 2010 in the range of $23 billion to $26 billion.\\nFor the full fiscal year 2010, Accenture continues to expect net revenue growth to be in the range of negative 3 percent to positive 1 percent in local currency. The company has increased its outlook for diluted EPS for the full fiscal year by $0.03, reflecting the updated foreign-currency assumption, and now expects diluted EPS to be in the range of $2.67 to $2.75. Accenture continues to expect operating margin for the full fiscal year to be 13.4 percent.\\nThe company continues to expect operating cash flow to be $2.39 billion to $2.59 billion; property and equipment additions to be $290 million; and free cash flow to be in the range of $2.1 billion to $2.3 billion. The company also continues to expect the annual effective tax rate to be in the range of 30 percent to 32 percent.\\nConference Call and Webcast Details\\nAccenture will host a conference call at 4:30 p.m. EST today to discuss its first-quarter fiscal 2010 financial results. To participate, please dial +1 (800) 288-8960 [+1 (612) 332-0530 outside the United States, Puerto Rico and Canada] approximately 15 minutes before the scheduled start of the call. The conference call will also be accessible live on the Investor Relations section of the Accenture Web site at www.accenture.com.\\nA replay of the conference call will be available online at www.accenture.com beginning at 7:00 p.m. EST on Thursday, Dec. 17, and continuing until Wednesday, March 24, 2010. A podcast of the conference call will be available online at www.accenture.com beginning approximately 24 hours after the call and continuing until Wednesday, March 24, 2010. The replay will also be available via telephone by dialing +1 (800) 475-6701 [+1 (320) 365-3844 outside the United States, Puerto Rico and Canada] and entering access code 120395 from 7:00 p.m. EST Thursday, Dec. 17 through Wednesday, March 24, 2010.\\nAbout Accenture\\nAccenture is a global management consulting, technology services and outsourcing company, with more than 176,000 people serving clients in more than 120 countries. Combining unparalleled experience, comprehensive capabilities across all industries and business functions, and extensive research on the world\\'s most successful companies, Accenture collaborates with clients to help them become high-performance businesses and governments. The company generated net revenues of US$21.58 billion for the fiscal year ended Aug. 31, 2009. Its home page is www.accenture.com.\\nNon-GAAP Financial Information\\nThis press release includes certain non-GAAP financial information as defined by Securities and Exchange Commission Regulation G. Pursuant to the requirements of this regulation, reconciliations of this non-GAAP financial information to Accenture\\'s financial statements as prepared under generally accepted accounting principles (GAAP) are included in this press release. Accenture\\'s management believes providing investors with this information gives additional insights into Accenture\\'s results of operations. While Accenture\\'s management believes that these non-GAAP financial measures are useful in evaluating Accenture\\'s operations, this information should be considered as supplemental in nature and not as a substitute for the related financial information prepared in accordance with GAAP.\\nForward-Looking Statements\\nExcept for the historical information and discussions contained herein, statements in this news release may constitute forward-looking statements within the meaning of the Private Securities Litigation Reform Act of 1995. These statements involve a number of risks, uncertainties and other factors that could cause actual results to differ materially from those expressed or implied. These include, without limitation, risks that: our results of operations could be adversely affected by economic and political conditions and the effects of these conditions on our clients\\' businesses and levels of business activity; our results of operations could be negatively affected if we cannot expand and develop our services and solutions in response to changes in technology and client demand; the consulting, systems integration and technology and outsourcing markets are highly competitive and we might not be able to compete effectively; our work with government clients exposes us to additional risks in the government contracting environment; clients may not be satisfied with our services; our results of operations could be adversely affected if our clients terminate their contracts with us; our outsourcing services subject us to operational and financial risk; our results of operations may be adversely affected by the type and level of technology spending by our clients; our profitability may suffer if we are not able to maintain favorable pricing rates and utilization rates; our business could be negatively affected by legal liability that results from our providing solutions or services; our profitability may suffer if we cannot anticipate the cost and complexity of performing our work or if we are not able to control our costs; our global operations are subject to complex risks, some of which might be beyond our control;\\nour business and financial results may be adversely affected if we are unable to keep our supply of skills and resources in balance with client demand; liabilities could arise if our subcontractors or other third parties cannot deliver their project contributions on time or at all; legislative or regulatory action could materially and adversely affect us; we may be subject to criticism and negative publicity related to our incorporation in Ireland; we might be unable to achieve our business objectives if we are unable to manage the organizational challenges associated with our size; consolidation in the industries that we serve could adversely affect our business; our ability to attract and retain business may depend on our reputation in the marketplace; our share price could fluctuate due to numerous factors, including variability in revenues, operating results and profitability; as well as the risks, uncertainties and other factors discussed under the \"Risk Factors\" heading in our most recent annual report on Form 10-K and other documents filed with or furnished to the Securities and Exchange Commission. Statements in this news release speak only as of the date they were made, and Accenture undertakes no duty to update any forward-looking statements made in this news release or to conform such statements to actual results or changes in Accenture\\'s expectations.\\nContact:\\nRoxanne Taylor\\nAccenture\\n+1 (917) 452 5106\\nroxanne.taylor@accenture.com\\nn/m = not meaningful\\n\\n\\n'"
      ]
     },
     "execution_count": 6,
     "metadata": {},
     "output_type": "execute_result"
    }
   ],
   "source": [
    "combined.text[0]"
   ]
  },
  {
   "cell_type": "code",
   "execution_count": 17,
   "metadata": {
    "collapsed": true
   },
   "outputs": [],
   "source": [
    "combined.to_pickle(\"/Users/Maximus/downloads/Data_12_03\")"
   ]
  },
  {
   "cell_type": "code",
   "execution_count": 3,
   "metadata": {
    "collapsed": false
   },
   "outputs": [],
   "source": [
    "train_data = combined.loc[combined.Date < '2009-01-01', :]\n",
    "dev_data = combined.loc[(combined.Date >= '2009-01-01') & (combined.Date <= '2010-12-31'), :]\n",
    "test_data = combined.loc[combined.Date >= '2011-01-01', :]\n",
    "\n",
    "train_label = train_data.label\n",
    "dev_label = dev_data.label\n",
    "test_label = test_data.label"
   ]
  },
  {
   "cell_type": "code",
   "execution_count": 11,
   "metadata": {
    "collapsed": false
   },
   "outputs": [
    {
     "data": {
      "text/html": [
       "<div>\n",
       "<table border=\"1\" class=\"dataframe\">\n",
       "  <thead>\n",
       "    <tr style=\"text-align: right;\">\n",
       "      <th></th>\n",
       "      <th>Unnamed: 0</th>\n",
       "      <th>Company</th>\n",
       "      <th>ticker</th>\n",
       "      <th>Surprise</th>\n",
       "      <th>Reported_EPS</th>\n",
       "      <th>Consensus_EPS</th>\n",
       "      <th>Date</th>\n",
       "      <th>timestamp</th>\n",
       "      <th>bow</th>\n",
       "      <th>items</th>\n",
       "      <th>text</th>\n",
       "      <th>orig_file</th>\n",
       "      <th>release_time_type</th>\n",
       "      <th>return</th>\n",
       "      <th>stock_performance</th>\n",
       "      <th>market_performance</th>\n",
       "      <th>normalized_performance</th>\n",
       "      <th>label</th>\n",
       "    </tr>\n",
       "  </thead>\n",
       "  <tbody>\n",
       "    <tr>\n",
       "      <th>13</th>\n",
       "      <td>3</td>\n",
       "      <td>COMTECH TELECOM CO</td>\n",
       "      <td>CMTL</td>\n",
       "      <td>43.75</td>\n",
       "      <td>0.46</td>\n",
       "      <td>0.32</td>\n",
       "      <td>2004-12-07</td>\n",
       "      <td>2004-12-07 10:01:18</td>\n",
       "      <td>Counter({'-': 22, 'million': 13, '31,': 10, 't...</td>\n",
       "      <td>['Results of Operations and Financial Conditio...</td>\n",
       "      <td>\\n\\nTEXT:\\n8\\nFORM\\n-K\\nCURRENT\\nREPORT\\n13 15...</td>\n",
       "      <td>CMTL/CMTL-8K-20041207100118.txt.gz</td>\n",
       "      <td>2</td>\n",
       "      <td>6.543967</td>\n",
       "      <td>6.521739</td>\n",
       "      <td>-1.10733</td>\n",
       "      <td>7.629070</td>\n",
       "      <td>UP</td>\n",
       "    </tr>\n",
       "    <tr>\n",
       "      <th>14</th>\n",
       "      <td>6</td>\n",
       "      <td>UTI WORLDWIDE INC</td>\n",
       "      <td>UTIW</td>\n",
       "      <td>10.71</td>\n",
       "      <td>0.62</td>\n",
       "      <td>0.56</td>\n",
       "      <td>2004-12-07</td>\n",
       "      <td>2004-12-07 09:12:35</td>\n",
       "      <td>Counter({'worldwide': 6, 'uti': 6, 'inc.': 6, ...</td>\n",
       "      <td>['Other Events', 'Financial Statements and Exh...</td>\n",
       "      <td>\\n\\nTEXT:\\nTable of Contents\\nCheck the approp...</td>\n",
       "      <td>UTIW/UTIW-8K-20041207091235.txt.gz</td>\n",
       "      <td>1</td>\n",
       "      <td>-1.695672</td>\n",
       "      <td>1.026457</td>\n",
       "      <td>0.00000</td>\n",
       "      <td>1.026457</td>\n",
       "      <td>UP</td>\n",
       "    </tr>\n",
       "  </tbody>\n",
       "</table>\n",
       "</div>"
      ],
      "text/plain": [
       "    Unnamed: 0             Company ticker  Surprise  Reported_EPS  \\\n",
       "13           3  COMTECH TELECOM CO   CMTL     43.75          0.46   \n",
       "14           6   UTI WORLDWIDE INC   UTIW     10.71          0.62   \n",
       "\n",
       "    Consensus_EPS       Date           timestamp  \\\n",
       "13           0.32 2004-12-07 2004-12-07 10:01:18   \n",
       "14           0.56 2004-12-07 2004-12-07 09:12:35   \n",
       "\n",
       "                                                  bow  \\\n",
       "13  Counter({'-': 22, 'million': 13, '31,': 10, 't...   \n",
       "14  Counter({'worldwide': 6, 'uti': 6, 'inc.': 6, ...   \n",
       "\n",
       "                                                items  \\\n",
       "13  ['Results of Operations and Financial Conditio...   \n",
       "14  ['Other Events', 'Financial Statements and Exh...   \n",
       "\n",
       "                                                 text  \\\n",
       "13  \\n\\nTEXT:\\n8\\nFORM\\n-K\\nCURRENT\\nREPORT\\n13 15...   \n",
       "14  \\n\\nTEXT:\\nTable of Contents\\nCheck the approp...   \n",
       "\n",
       "                             orig_file release_time_type    return  \\\n",
       "13  CMTL/CMTL-8K-20041207100118.txt.gz                 2  6.543967   \n",
       "14  UTIW/UTIW-8K-20041207091235.txt.gz                 1 -1.695672   \n",
       "\n",
       "    stock_performance  market_performance  normalized_performance label  \n",
       "13           6.521739            -1.10733                7.629070    UP  \n",
       "14           1.026457             0.00000                1.026457    UP  "
      ]
     },
     "execution_count": 11,
     "metadata": {},
     "output_type": "execute_result"
    }
   ],
   "source": [
    "train_data.head(2)"
   ]
  },
  {
   "cell_type": "markdown",
   "metadata": {},
   "source": [
    "## Create Word Count Matrix"
   ]
  },
  {
   "cell_type": "code",
   "execution_count": 4,
   "metadata": {
    "collapsed": false
   },
   "outputs": [],
   "source": [
    "vectorizer = CountVectorizer(min_df=1, stop_words='english')\n",
    "train_text_features = vectorizer.fit_transform(train_data.bow)\n",
    "\n",
    "dev_text_features = vectorizer.transform(dev_data.bow)"
   ]
  },
  {
   "cell_type": "code",
   "execution_count": 5,
   "metadata": {
    "collapsed": false
   },
   "outputs": [
    {
     "name": "stderr",
     "output_type": "stream",
     "text": [
      "/Users/Maximus/anaconda/lib/python2.7/site-packages/pandas/core/generic.py:2862: SettingWithCopyWarning: \n",
      "A value is trying to be set on a copy of a slice from a DataFrame\n",
      "\n",
      "See the caveats in the documentation: http://pandas.pydata.org/pandas-docs/stable/indexing.html#indexing-view-versus-copy\n",
      "  self._update_inplace(new_data)\n"
     ]
    }
   ],
   "source": [
    "#train_text_features.shape\n",
    "train_data['Surprise'].fillna(0, inplace=True)\n",
    "dev_data['Surprise'].fillna(0, inplace=True)\n",
    "#train_data.fillna(0, inplace=True)"
   ]
  },
  {
   "cell_type": "code",
   "execution_count": 15,
   "metadata": {
    "collapsed": false
   },
   "outputs": [
    {
     "name": "stdout",
     "output_type": "stream",
     "text": [
      "\n",
      "Accuracy of model prediction: 0.4019\n"
     ]
    }
   ],
   "source": [
    "#Base model, text features only\n",
    "clf = RandomForestClassifier(random_state = 99, n_estimators = 3000)\n",
    "clf = clf.fit(train_text_features, train_label)\n",
    "\n",
    "preds_dev = clf.predict(dev_text_features)\n",
    "\n",
    "accuracy = np.where(preds_dev==dev_label, 1, 0).sum() / float(len(dev_label))\n",
    "print \"\\nAccuracy of model prediction: %0.4f\" %  accuracy"
   ]
  },
  {
   "cell_type": "code",
   "execution_count": 16,
   "metadata": {
    "collapsed": false
   },
   "outputs": [
    {
     "data": {
      "text/plain": [
       "array([[2756,  350,  574],\n",
       "       [1881,  660,  316],\n",
       "       [2385,  340,  512]])"
      ]
     },
     "execution_count": 16,
     "metadata": {},
     "output_type": "execute_result"
    }
   ],
   "source": [
    "from sklearn.metrics import confusion_matrix\n",
    "confusion_matrix(dev_label, preds_dev, labels=['UP','STAY','DOWN'])"
   ]
  },
  {
   "cell_type": "markdown",
   "metadata": {},
   "source": [
    "## Check length of time..."
   ]
  },
  {
   "cell_type": "code",
   "execution_count": 125,
   "metadata": {
    "collapsed": false
   },
   "outputs": [
    {
     "data": {
      "text/plain": [
       "array([[ 43.75],\n",
       "       [ 10.71],\n",
       "       [-17.39],\n",
       "       ..., \n",
       "       [ 52.63],\n",
       "       [  0.  ],\n",
       "       [ -2.94]])"
      ]
     },
     "execution_count": 125,
     "metadata": {},
     "output_type": "execute_result"
    }
   ],
   "source": [
    "all_data_train[:,-1:]"
   ]
  },
  {
   "cell_type": "code",
   "execution_count": 7,
   "metadata": {
    "collapsed": false
   },
   "outputs": [],
   "source": [
    "all_data_train = np.append(train_text_features.toarray(),\\\n",
    "                           np.array(train_data.Surprise).reshape(len(train_data.Surprise),1), 1)\n",
    "all_data_dev = np.append(dev_text_features.toarray(),\\\n",
    "                         np.array(dev_data.Surprise).reshape(len(dev_data.Surprise),1), 1)"
   ]
  },
  {
   "cell_type": "code",
   "execution_count": 8,
   "metadata": {
    "collapsed": false
   },
   "outputs": [
    {
     "name": "stdout",
     "output_type": "stream",
     "text": [
      "\n",
      "Accuracy of model prediction: 0.3856\n"
     ]
    }
   ],
   "source": [
    "#Base model, text features only\n",
    "clf = RandomForestClassifier(random_state = 99)\n",
    "clf = clf.fit(all_data_train, train_label)\n",
    "\n",
    "preds_dev = clf.predict(all_data_dev)\n",
    "\n",
    "accuracy = np.where(preds_dev==dev_label, 1, 0).sum() / float(len(dev_label))\n",
    "print \"\\nAccuracy of model prediction: %0.4f\" %  accuracy"
   ]
  },
  {
   "cell_type": "code",
   "execution_count": null,
   "metadata": {
    "collapsed": true
   },
   "outputs": [],
   "source": []
  },
  {
   "cell_type": "code",
   "execution_count": 114,
   "metadata": {
    "collapsed": false
   },
   "outputs": [
    {
     "name": "stdout",
     "output_type": "stream",
     "text": [
      "(17500, 1)\n",
      "(17500, 96306)\n"
     ]
    }
   ],
   "source": [
    "a = np.array([[1, 2], [3, 4]])\n",
    "b = np.array(train_data.Surprise).reshape(len(train_data.Surprise),1)\n",
    "#>>> np.concatenate((a, b), axis=0)\n",
    "print b.shape\n",
    "print train_text_features.shape"
   ]
  },
  {
   "cell_type": "code",
   "execution_count": null,
   "metadata": {
    "collapsed": true
   },
   "outputs": [],
   "source": []
  },
  {
   "cell_type": "code",
   "execution_count": null,
   "metadata": {
    "collapsed": true
   },
   "outputs": [],
   "source": []
  },
  {
   "cell_type": "code",
   "execution_count": null,
   "metadata": {
    "collapsed": true
   },
   "outputs": [],
   "source": []
  },
  {
   "cell_type": "code",
   "execution_count": 31,
   "metadata": {
    "collapsed": false
   },
   "outputs": [
    {
     "data": {
      "text/plain": [
       "Unnamed: 0                         int64\n",
       "Company                           object\n",
       "ticker                            object\n",
       "Surprise                         float64\n",
       "Reported_EPS                     float64\n",
       "Consensus_EPS                    float64\n",
       "Date                      datetime64[ns]\n",
       "timestamp                 datetime64[ns]\n",
       "bow                               object\n",
       "items                             object\n",
       "text                              object\n",
       "orig_file                         object\n",
       "release_time_type                 object\n",
       "return                           float64\n",
       "stock_performance                float64\n",
       "market_performance               float64\n",
       "normalized_performance           float64\n",
       "label                             object\n",
       "dtype: object"
      ]
     },
     "execution_count": 31,
     "metadata": {},
     "output_type": "execute_result"
    }
   ],
   "source": [
    "#combined.shape\n",
    "combined.dtypes"
   ]
  },
  {
   "cell_type": "code",
   "execution_count": 26,
   "metadata": {
    "collapsed": false
   },
   "outputs": [],
   "source": [
    "#data.loc[(data[\"ticker\"] =='AA'),:]\n",
    "del data"
   ]
  }
 ],
 "metadata": {
  "kernelspec": {
   "display_name": "Python 2",
   "language": "python",
   "name": "python2"
  },
  "language_info": {
   "codemirror_mode": {
    "name": "ipython",
    "version": 2
   },
   "file_extension": ".py",
   "mimetype": "text/x-python",
   "name": "python",
   "nbconvert_exporter": "python",
   "pygments_lexer": "ipython2",
   "version": "2.7.12"
  }
 },
 "nbformat": 4,
 "nbformat_minor": 0
}
