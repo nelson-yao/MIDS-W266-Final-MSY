{
 "cells": [
  {
   "cell_type": "markdown",
   "metadata": {},
   "source": [
    "# Construction of the Dependent Variable\n"
   ]
  },
  {
   "cell_type": "code",
   "execution_count": 6,
   "metadata": {
    "collapsed": false
   },
   "outputs": [],
   "source": [
    "# This tells matplotlib not to try opening a new window for each plot.\n",
    "#%matplotlib inline\n",
    "\n",
    "# General libraries.\n",
    "import os\n",
    "import codecs\n",
    "import json\n",
    "import csv\n",
    "\n",
    "import re\n",
    "import numpy as np\n",
    "import pandas as pd\n",
    "#import matplotlib.pyplot as plt\n",
    "import scipy\n",
    "import glob\n"
   ]
  },
  {
   "cell_type": "code",
   "execution_count": 3,
   "metadata": {
    "collapsed": false
   },
   "outputs": [],
   "source": [
    "path =r'/home/nyao111/266/FinalProject/price_history' \n",
    "allFiles = glob.glob(path + \"/*.csv\")\n",
    "frame = pd.DataFrame()\n",
    "list_ = []\n",
    "for file_ in allFiles:\n",
    "    df = pd.read_csv(file_,index_col=None, header=0)\n",
    "    df['ticker'] = file_\n",
    "    list_.append(df)\n",
    "frame = pd.concat(list_)\n"
   ]
  },
  {
   "cell_type": "code",
   "execution_count": 4,
   "metadata": {
    "collapsed": false
   },
   "outputs": [],
   "source": [
    "#Clean up text to keep ticker\n",
    "frame['ticker'] = frame['ticker'].apply(lambda x: x.replace('/home/nyao111/266/FinalProject/price_history/', \"\").replace(\".csv\", \"\"))"
   ]
  },
  {
   "cell_type": "code",
   "execution_count": 5,
   "metadata": {
    "collapsed": false
   },
   "outputs": [
    {
     "data": {
      "text/html": [
       "<div>\n",
       "<table border=\"1\" class=\"dataframe\">\n",
       "  <thead>\n",
       "    <tr style=\"text-align: right;\">\n",
       "      <th></th>\n",
       "      <th>Date</th>\n",
       "      <th>Open</th>\n",
       "      <th>High</th>\n",
       "      <th>Low</th>\n",
       "      <th>Close</th>\n",
       "      <th>Volume</th>\n",
       "      <th>Adj Close</th>\n",
       "      <th>ticker</th>\n",
       "    </tr>\n",
       "  </thead>\n",
       "  <tbody>\n",
       "    <tr>\n",
       "      <th>0</th>\n",
       "      <td>2013-02-01</td>\n",
       "      <td>49.97</td>\n",
       "      <td>50.46</td>\n",
       "      <td>49.75</td>\n",
       "      <td>50.10</td>\n",
       "      <td>415900</td>\n",
       "      <td>50.10</td>\n",
       "      <td>KRC</td>\n",
       "    </tr>\n",
       "    <tr>\n",
       "      <th>1</th>\n",
       "      <td>2013-01-31</td>\n",
       "      <td>50.13</td>\n",
       "      <td>50.29</td>\n",
       "      <td>49.10</td>\n",
       "      <td>49.90</td>\n",
       "      <td>936300</td>\n",
       "      <td>49.90</td>\n",
       "      <td>KRC</td>\n",
       "    </tr>\n",
       "    <tr>\n",
       "      <th>2</th>\n",
       "      <td>2013-01-30</td>\n",
       "      <td>50.10</td>\n",
       "      <td>50.29</td>\n",
       "      <td>49.68</td>\n",
       "      <td>49.98</td>\n",
       "      <td>419100</td>\n",
       "      <td>49.98</td>\n",
       "      <td>KRC</td>\n",
       "    </tr>\n",
       "    <tr>\n",
       "      <th>3</th>\n",
       "      <td>2013-01-29</td>\n",
       "      <td>49.97</td>\n",
       "      <td>50.34</td>\n",
       "      <td>49.81</td>\n",
       "      <td>50.29</td>\n",
       "      <td>252100</td>\n",
       "      <td>50.29</td>\n",
       "      <td>KRC</td>\n",
       "    </tr>\n",
       "    <tr>\n",
       "      <th>4</th>\n",
       "      <td>2013-01-28</td>\n",
       "      <td>50.09</td>\n",
       "      <td>50.16</td>\n",
       "      <td>49.67</td>\n",
       "      <td>49.97</td>\n",
       "      <td>411300</td>\n",
       "      <td>49.97</td>\n",
       "      <td>KRC</td>\n",
       "    </tr>\n",
       "  </tbody>\n",
       "</table>\n",
       "</div>"
      ],
      "text/plain": [
       "         Date   Open   High    Low  Close  Volume  Adj Close ticker\n",
       "0  2013-02-01  49.97  50.46  49.75  50.10  415900      50.10    KRC\n",
       "1  2013-01-31  50.13  50.29  49.10  49.90  936300      49.90    KRC\n",
       "2  2013-01-30  50.10  50.29  49.68  49.98  419100      49.98    KRC\n",
       "3  2013-01-29  49.97  50.34  49.81  50.29  252100      50.29    KRC\n",
       "4  2013-01-28  50.09  50.16  49.67  49.97  411300      49.97    KRC"
      ]
     },
     "execution_count": 5,
     "metadata": {},
     "output_type": "execute_result"
    }
   ],
   "source": [
    "frame.head()"
   ]
  },
  {
   "cell_type": "code",
   "execution_count": 6,
   "metadata": {
    "collapsed": false
   },
   "outputs": [
    {
     "name": "stderr",
     "output_type": "stream",
     "text": [
      "/home/nyao111/.local/share/jupyter/kernels/M-learn/env/lib/python2.7/site-packages/ipykernel/__main__.py:2: FutureWarning: sort(columns=....) is deprecated, use sort_values(by=.....)\n",
      "  from ipykernel import kernelapp as app\n"
     ]
    }
   ],
   "source": [
    "#Calculate Return\n",
    "frame = frame.sort(['ticker', 'Date'], ascending=[1, 1])\n",
    "frame[\"return\"] = (frame[\"Adj Close\"].diff(1)/frame[\"Adj Close\"].shift(1))*float(100)"
   ]
  },
  {
   "cell_type": "code",
   "execution_count": 7,
   "metadata": {
    "collapsed": false
   },
   "outputs": [],
   "source": [
    "frame[\"Before Market\"] = float(100)*(frame.Open - frame.Close.shift(1))/frame.Close.shift(1)\n",
    "frame[\"During Market\"] = float(100)*(frame.Close - frame.Close.shift(1))/frame.Close.shift(1)\n",
    "frame[\"After Market\"] = float(100)*(frame.Open.shift(-1) - frame.Close)/frame.Close"
   ]
  },
  {
   "cell_type": "code",
   "execution_count": 8,
   "metadata": {
    "collapsed": true
   },
   "outputs": [],
   "source": [
    "frame['Date'] = pd.to_datetime(frame['Date'])"
   ]
  },
  {
   "cell_type": "code",
   "execution_count": 9,
   "metadata": {
    "collapsed": false
   },
   "outputs": [
    {
     "data": {
      "text/html": [
       "<div>\n",
       "<table border=\"1\" class=\"dataframe\">\n",
       "  <thead>\n",
       "    <tr style=\"text-align: right;\">\n",
       "      <th></th>\n",
       "      <th>Date</th>\n",
       "      <th>Open</th>\n",
       "      <th>High</th>\n",
       "      <th>Low</th>\n",
       "      <th>Close</th>\n",
       "      <th>Volume</th>\n",
       "      <th>Adj Close</th>\n",
       "      <th>ticker</th>\n",
       "      <th>return</th>\n",
       "      <th>Before Market</th>\n",
       "      <th>During Market</th>\n",
       "      <th>After Market</th>\n",
       "    </tr>\n",
       "  </thead>\n",
       "  <tbody>\n",
       "    <tr>\n",
       "      <th>12859</th>\n",
       "      <td>1962-01-02</td>\n",
       "      <td>65.37</td>\n",
       "      <td>65.75</td>\n",
       "      <td>65.37</td>\n",
       "      <td>65.37</td>\n",
       "      <td>134400</td>\n",
       "      <td>0.67</td>\n",
       "      <td>AA</td>\n",
       "      <td>-98.520645</td>\n",
       "      <td>44.336498</td>\n",
       "      <td>44.336498</td>\n",
       "      <td>0.000000</td>\n",
       "    </tr>\n",
       "    <tr>\n",
       "      <th>12858</th>\n",
       "      <td>1962-01-03</td>\n",
       "      <td>65.37</td>\n",
       "      <td>66.37</td>\n",
       "      <td>65.25</td>\n",
       "      <td>66.37</td>\n",
       "      <td>179200</td>\n",
       "      <td>0.68</td>\n",
       "      <td>AA</td>\n",
       "      <td>1.492537</td>\n",
       "      <td>0.000000</td>\n",
       "      <td>1.529754</td>\n",
       "      <td>0.000000</td>\n",
       "    </tr>\n",
       "    <tr>\n",
       "      <th>12857</th>\n",
       "      <td>1962-01-04</td>\n",
       "      <td>66.37</td>\n",
       "      <td>66.87</td>\n",
       "      <td>66.37</td>\n",
       "      <td>66.37</td>\n",
       "      <td>193600</td>\n",
       "      <td>0.68</td>\n",
       "      <td>AA</td>\n",
       "      <td>0.000000</td>\n",
       "      <td>0.000000</td>\n",
       "      <td>0.000000</td>\n",
       "      <td>0.000000</td>\n",
       "    </tr>\n",
       "    <tr>\n",
       "      <th>12856</th>\n",
       "      <td>1962-01-05</td>\n",
       "      <td>66.37</td>\n",
       "      <td>66.75</td>\n",
       "      <td>66.12</td>\n",
       "      <td>66.25</td>\n",
       "      <td>169600</td>\n",
       "      <td>0.68</td>\n",
       "      <td>AA</td>\n",
       "      <td>0.000000</td>\n",
       "      <td>0.000000</td>\n",
       "      <td>-0.180805</td>\n",
       "      <td>-0.377358</td>\n",
       "    </tr>\n",
       "    <tr>\n",
       "      <th>12855</th>\n",
       "      <td>1962-01-08</td>\n",
       "      <td>66.00</td>\n",
       "      <td>66.00</td>\n",
       "      <td>63.50</td>\n",
       "      <td>64.00</td>\n",
       "      <td>225600</td>\n",
       "      <td>0.66</td>\n",
       "      <td>AA</td>\n",
       "      <td>-2.941176</td>\n",
       "      <td>-0.377358</td>\n",
       "      <td>-3.396226</td>\n",
       "      <td>0.000000</td>\n",
       "    </tr>\n",
       "  </tbody>\n",
       "</table>\n",
       "</div>"
      ],
      "text/plain": [
       "            Date   Open   High    Low  Close  Volume  Adj Close ticker  \\\n",
       "12859 1962-01-02  65.37  65.75  65.37  65.37  134400       0.67     AA   \n",
       "12858 1962-01-03  65.37  66.37  65.25  66.37  179200       0.68     AA   \n",
       "12857 1962-01-04  66.37  66.87  66.37  66.37  193600       0.68     AA   \n",
       "12856 1962-01-05  66.37  66.75  66.12  66.25  169600       0.68     AA   \n",
       "12855 1962-01-08  66.00  66.00  63.50  64.00  225600       0.66     AA   \n",
       "\n",
       "          return  Before Market  During Market  After Market  \n",
       "12859 -98.520645      44.336498      44.336498      0.000000  \n",
       "12858   1.492537       0.000000       1.529754      0.000000  \n",
       "12857   0.000000       0.000000       0.000000      0.000000  \n",
       "12856   0.000000       0.000000      -0.180805     -0.377358  \n",
       "12855  -2.941176      -0.377358      -3.396226      0.000000  "
      ]
     },
     "execution_count": 9,
     "metadata": {},
     "output_type": "execute_result"
    }
   ],
   "source": [
    "frame.loc[frame[\"ticker\"] =='AA', :].head()\n",
    "#frame.loc[(frame[\"ticker\"] =='AA' and frame['Date'] == datetime.date(2002, 7, 11)), :]"
   ]
  },
  {
   "cell_type": "code",
   "execution_count": 10,
   "metadata": {
    "collapsed": false
   },
   "outputs": [
    {
     "data": {
      "text/html": [
       "<div>\n",
       "<table border=\"1\" class=\"dataframe\">\n",
       "  <thead>\n",
       "    <tr style=\"text-align: right;\">\n",
       "      <th></th>\n",
       "      <th>Date</th>\n",
       "      <th>Open</th>\n",
       "      <th>High</th>\n",
       "      <th>Low</th>\n",
       "      <th>Close</th>\n",
       "      <th>Volume</th>\n",
       "      <th>Adj Close</th>\n",
       "      <th>ticker</th>\n",
       "      <th>return</th>\n",
       "      <th>Before Market</th>\n",
       "      <th>During Market</th>\n",
       "      <th>After Market</th>\n",
       "    </tr>\n",
       "  </thead>\n",
       "  <tbody>\n",
       "    <tr>\n",
       "      <th>3320</th>\n",
       "      <td>1999-11-18</td>\n",
       "      <td>45.50</td>\n",
       "      <td>50.00</td>\n",
       "      <td>40.00</td>\n",
       "      <td>44.00</td>\n",
       "      <td>44739900</td>\n",
       "      <td>41.05</td>\n",
       "      <td>A</td>\n",
       "      <td>NaN</td>\n",
       "      <td>NaN</td>\n",
       "      <td>NaN</td>\n",
       "      <td>-2.409091</td>\n",
       "    </tr>\n",
       "    <tr>\n",
       "      <th>3319</th>\n",
       "      <td>1999-11-19</td>\n",
       "      <td>42.94</td>\n",
       "      <td>43.00</td>\n",
       "      <td>39.81</td>\n",
       "      <td>40.38</td>\n",
       "      <td>10897100</td>\n",
       "      <td>37.67</td>\n",
       "      <td>A</td>\n",
       "      <td>-8.233861</td>\n",
       "      <td>-2.409091</td>\n",
       "      <td>-8.227273</td>\n",
       "      <td>2.303120</td>\n",
       "    </tr>\n",
       "    <tr>\n",
       "      <th>3318</th>\n",
       "      <td>1999-11-22</td>\n",
       "      <td>41.31</td>\n",
       "      <td>44.00</td>\n",
       "      <td>40.06</td>\n",
       "      <td>44.00</td>\n",
       "      <td>4705200</td>\n",
       "      <td>41.05</td>\n",
       "      <td>A</td>\n",
       "      <td>8.972657</td>\n",
       "      <td>2.303120</td>\n",
       "      <td>8.964834</td>\n",
       "      <td>-3.409091</td>\n",
       "    </tr>\n",
       "    <tr>\n",
       "      <th>3317</th>\n",
       "      <td>1999-11-23</td>\n",
       "      <td>42.50</td>\n",
       "      <td>43.63</td>\n",
       "      <td>40.00</td>\n",
       "      <td>40.00</td>\n",
       "      <td>4274400</td>\n",
       "      <td>37.32</td>\n",
       "      <td>A</td>\n",
       "      <td>-9.086480</td>\n",
       "      <td>-3.409091</td>\n",
       "      <td>-9.090909</td>\n",
       "      <td>0.325000</td>\n",
       "    </tr>\n",
       "    <tr>\n",
       "      <th>3316</th>\n",
       "      <td>1999-11-24</td>\n",
       "      <td>40.13</td>\n",
       "      <td>41.94</td>\n",
       "      <td>40.00</td>\n",
       "      <td>41.06</td>\n",
       "      <td>3464400</td>\n",
       "      <td>38.30</td>\n",
       "      <td>A</td>\n",
       "      <td>2.625938</td>\n",
       "      <td>0.325000</td>\n",
       "      <td>2.650000</td>\n",
       "      <td>-0.438383</td>\n",
       "    </tr>\n",
       "  </tbody>\n",
       "</table>\n",
       "</div>"
      ],
      "text/plain": [
       "           Date   Open   High    Low  Close    Volume  Adj Close ticker  \\\n",
       "3320 1999-11-18  45.50  50.00  40.00  44.00  44739900      41.05      A   \n",
       "3319 1999-11-19  42.94  43.00  39.81  40.38  10897100      37.67      A   \n",
       "3318 1999-11-22  41.31  44.00  40.06  44.00   4705200      41.05      A   \n",
       "3317 1999-11-23  42.50  43.63  40.00  40.00   4274400      37.32      A   \n",
       "3316 1999-11-24  40.13  41.94  40.00  41.06   3464400      38.30      A   \n",
       "\n",
       "        return  Before Market  During Market  After Market  \n",
       "3320       NaN            NaN            NaN     -2.409091  \n",
       "3319 -8.233861      -2.409091      -8.227273      2.303120  \n",
       "3318  8.972657       2.303120       8.964834     -3.409091  \n",
       "3317 -9.086480      -3.409091      -9.090909      0.325000  \n",
       "3316  2.625938       0.325000       2.650000     -0.438383  "
      ]
     },
     "execution_count": 10,
     "metadata": {},
     "output_type": "execute_result"
    }
   ],
   "source": [
    "frame.head()"
   ]
  },
  {
   "cell_type": "code",
   "execution_count": 13,
   "metadata": {
    "collapsed": false
   },
   "outputs": [],
   "source": [
    "datapath = r'/home/nyao111/266/FinalProject/Data/*.csv' \n",
    "\n",
    "allFiles = glob.glob(datapath)\n",
    "data = pd.DataFrame()\n",
    "list_ = []\n",
    "for file_ in allFiles:\n",
    "    df = pd.read_csv(file_,index_col=None, header=0)\n",
    "    df = df.rename(columns = {'date':'Date'})\n",
    "    df['ticker'] = file_\n",
    "    list_.append(df)\n",
    "data = pd.concat(list_)"
   ]
  },
  {
   "cell_type": "markdown",
   "metadata": {},
   "source": [
    "### Merge with Price / timestamp"
   ]
  },
  {
   "cell_type": "code",
   "execution_count": 19,
   "metadata": {
    "collapsed": false
   },
   "outputs": [],
   "source": [
    "import datetime\n",
    "test=data\n",
    "test['timestamp'] = pd.to_datetime(test['timestamp'], format='%Y-%m-%d', errors='ignore')\n",
    "test['Date'] = pd.to_datetime(test['Date'])\n",
    "\n",
    "test['release_time_type'] = test['timestamp']\n",
    "test['release_time_type'] = test.release_time_type.apply(lambda x: 1 if x < \\\n",
    "                                                         datetime.datetime(x.year, x.month, x.day,9,30,0) else x)\n",
    "test['release_time_type'] = test.release_time_type.apply(lambda x: 2 if x not in [1] \\\n",
    "                                                         and x > datetime.datetime(x.year, x.month, x.day,9,30,0) \\\n",
    "                                                         and x <= datetime.datetime(x.year, x.month, x.day,16,0,0) \\\n",
    "                                                         else x)\n",
    "test['release_time_type'] = test.release_time_type.apply(lambda x: 3 if x not in [1,2] \\\n",
    "                                                         and x > datetime.datetime(x.year, x.month, x.day,16,0,0) else x)"
   ]
  },
  {
   "cell_type": "code",
   "execution_count": 28,
   "metadata": {
    "collapsed": true
   },
   "outputs": [],
   "source": [
    "test['ticker']=test['ticker'].apply(lambda x: x.replace('/home/nyao111/266/FinalProject/Data/', \"\").replace(\".csv\", \"\"))"
   ]
  },
  {
   "cell_type": "code",
   "execution_count": 29,
   "metadata": {
    "collapsed": false
   },
   "outputs": [
    {
     "data": {
      "text/html": [
       "<div>\n",
       "<table border=\"1\" class=\"dataframe\">\n",
       "  <thead>\n",
       "    <tr style=\"text-align: right;\">\n",
       "      <th></th>\n",
       "      <th>Date</th>\n",
       "      <th>timestamp</th>\n",
       "      <th>ticker</th>\n",
       "      <th>bow</th>\n",
       "      <th>items</th>\n",
       "      <th>text</th>\n",
       "      <th>orig_file</th>\n",
       "      <th>release_time_type</th>\n",
       "    </tr>\n",
       "  </thead>\n",
       "  <tbody>\n",
       "    <tr>\n",
       "      <th>0</th>\n",
       "      <td>2002-07-24</td>\n",
       "      <td>2002-07-24 21:39:56</td>\n",
       "      <td>KRC</td>\n",
       "      <td>Counter({'kilroy': 28, 'realty': 25, 'forward-...</td>\n",
       "      <td>['']</td>\n",
       "      <td>\\nTEXT:\\nOn July 24, 2002 the Company issued a...</td>\n",
       "      <td>KRC/KRC-8K-20020724213956.txt.gz</td>\n",
       "      <td>3</td>\n",
       "    </tr>\n",
       "    <tr>\n",
       "      <th>1</th>\n",
       "      <td>2002-08-12</td>\n",
       "      <td>2002-08-12 20:56:04</td>\n",
       "      <td>KRC</td>\n",
       "      <td>Counter({'quarterly': 8, 'report': 7, 'section...</td>\n",
       "      <td>['']</td>\n",
       "      <td>\\n\\nTEXT:\\nOn August 12, 2002, the Registrant ...</td>\n",
       "      <td>KRC/KRC-8K-20020812205604.txt.gz</td>\n",
       "      <td>3</td>\n",
       "    </tr>\n",
       "    <tr>\n",
       "      <th>2</th>\n",
       "      <td>2002-10-28</td>\n",
       "      <td>2002-10-28 21:06:49</td>\n",
       "      <td>KRC</td>\n",
       "      <td>Counter({'kilroy': 29, 'realty': 26, 'forward-...</td>\n",
       "      <td>['']</td>\n",
       "      <td>\\n\\nTEXT:\\nOn October 28, 2002 the Company iss...</td>\n",
       "      <td>KRC/KRC-8K-20021028210649.txt.gz</td>\n",
       "      <td>3</td>\n",
       "    </tr>\n",
       "  </tbody>\n",
       "</table>\n",
       "</div>"
      ],
      "text/plain": [
       "        Date           timestamp ticker  \\\n",
       "0 2002-07-24 2002-07-24 21:39:56    KRC   \n",
       "1 2002-08-12 2002-08-12 20:56:04    KRC   \n",
       "2 2002-10-28 2002-10-28 21:06:49    KRC   \n",
       "\n",
       "                                                 bow items  \\\n",
       "0  Counter({'kilroy': 28, 'realty': 25, 'forward-...  ['']   \n",
       "1  Counter({'quarterly': 8, 'report': 7, 'section...  ['']   \n",
       "2  Counter({'kilroy': 29, 'realty': 26, 'forward-...  ['']   \n",
       "\n",
       "                                                text  \\\n",
       "0  \\nTEXT:\\nOn July 24, 2002 the Company issued a...   \n",
       "1  \\n\\nTEXT:\\nOn August 12, 2002, the Registrant ...   \n",
       "2  \\n\\nTEXT:\\nOn October 28, 2002 the Company iss...   \n",
       "\n",
       "                          orig_file release_time_type  \n",
       "0  KRC/KRC-8K-20020724213956.txt.gz                 3  \n",
       "1  KRC/KRC-8K-20020812205604.txt.gz                 3  \n",
       "2  KRC/KRC-8K-20021028210649.txt.gz                 3  "
      ]
     },
     "execution_count": 29,
     "metadata": {},
     "output_type": "execute_result"
    }
   ],
   "source": [
    "#test.dtypes\n",
    "test.head(3)"
   ]
  },
  {
   "cell_type": "code",
   "execution_count": 31,
   "metadata": {
    "collapsed": false
   },
   "outputs": [],
   "source": [
    "combined = pd.merge(test, frame, how='left', on=['ticker','Date'])"
   ]
  },
  {
   "cell_type": "code",
   "execution_count": 32,
   "metadata": {
    "collapsed": false
   },
   "outputs": [],
   "source": [
    "combined['stock_performance'] = 0\n",
    "combined['stock_performance'] = \\\n",
    "  combined.release_time_type.apply(lambda x: 1 if x ==1 else 0)*combined['Before Market']\\\n",
    "+ combined.release_time_type.apply(lambda x: 1 if x ==2 else 0)*combined['During Market']\\\n",
    "+ combined.release_time_type.apply(lambda x: 1 if x ==3 else 0)*combined['After Market']"
   ]
  },
  {
   "cell_type": "code",
   "execution_count": 35,
   "metadata": {
    "collapsed": false
   },
   "outputs": [
    {
     "data": {
      "text/html": [
       "<div>\n",
       "<table border=\"1\" class=\"dataframe\">\n",
       "  <thead>\n",
       "    <tr style=\"text-align: right;\">\n",
       "      <th></th>\n",
       "      <th>Date</th>\n",
       "      <th>timestamp</th>\n",
       "      <th>ticker</th>\n",
       "      <th>bow</th>\n",
       "      <th>items</th>\n",
       "      <th>text</th>\n",
       "      <th>orig_file</th>\n",
       "      <th>release_time_type</th>\n",
       "      <th>Open</th>\n",
       "      <th>High</th>\n",
       "      <th>Low</th>\n",
       "      <th>Close</th>\n",
       "      <th>Volume</th>\n",
       "      <th>Adj Close</th>\n",
       "      <th>return</th>\n",
       "      <th>Before Market</th>\n",
       "      <th>During Market</th>\n",
       "      <th>After Market</th>\n",
       "      <th>stock_performance</th>\n",
       "    </tr>\n",
       "  </thead>\n",
       "  <tbody>\n",
       "    <tr>\n",
       "      <th>0</th>\n",
       "      <td>2002-07-24</td>\n",
       "      <td>2002-07-24 21:39:56</td>\n",
       "      <td>KRC</td>\n",
       "      <td>Counter({'kilroy': 28, 'realty': 25, 'forward-...</td>\n",
       "      <td>['']</td>\n",
       "      <td>\\nTEXT:\\nOn July 24, 2002 the Company issued a...</td>\n",
       "      <td>KRC/KRC-8K-20020724213956.txt.gz</td>\n",
       "      <td>3</td>\n",
       "      <td>22.00</td>\n",
       "      <td>22.80</td>\n",
       "      <td>21.12</td>\n",
       "      <td>22.17</td>\n",
       "      <td>236700</td>\n",
       "      <td>13.34</td>\n",
       "      <td>0.527506</td>\n",
       "      <td>-0.226757</td>\n",
       "      <td>0.544218</td>\n",
       "      <td>0.360848</td>\n",
       "      <td>0.360848</td>\n",
       "    </tr>\n",
       "    <tr>\n",
       "      <th>1</th>\n",
       "      <td>2002-08-12</td>\n",
       "      <td>2002-08-12 20:56:04</td>\n",
       "      <td>KRC</td>\n",
       "      <td>Counter({'quarterly': 8, 'report': 7, 'section...</td>\n",
       "      <td>['']</td>\n",
       "      <td>\\n\\nTEXT:\\nOn August 12, 2002, the Registrant ...</td>\n",
       "      <td>KRC/KRC-8K-20020812205604.txt.gz</td>\n",
       "      <td>3</td>\n",
       "      <td>22.77</td>\n",
       "      <td>23.50</td>\n",
       "      <td>22.58</td>\n",
       "      <td>23.41</td>\n",
       "      <td>40200</td>\n",
       "      <td>14.08</td>\n",
       "      <td>1.881331</td>\n",
       "      <td>-0.870701</td>\n",
       "      <td>1.915542</td>\n",
       "      <td>0.384451</td>\n",
       "      <td>0.384451</td>\n",
       "    </tr>\n",
       "    <tr>\n",
       "      <th>2</th>\n",
       "      <td>2002-10-28</td>\n",
       "      <td>2002-10-28 21:06:49</td>\n",
       "      <td>KRC</td>\n",
       "      <td>Counter({'kilroy': 29, 'realty': 26, 'forward-...</td>\n",
       "      <td>['']</td>\n",
       "      <td>\\n\\nTEXT:\\nOn October 28, 2002 the Company iss...</td>\n",
       "      <td>KRC/KRC-8K-20021028210649.txt.gz</td>\n",
       "      <td>3</td>\n",
       "      <td>21.68</td>\n",
       "      <td>21.68</td>\n",
       "      <td>21.35</td>\n",
       "      <td>21.50</td>\n",
       "      <td>70300</td>\n",
       "      <td>13.21</td>\n",
       "      <td>0.000000</td>\n",
       "      <td>0.837209</td>\n",
       "      <td>0.000000</td>\n",
       "      <td>0.000000</td>\n",
       "      <td>0.000000</td>\n",
       "    </tr>\n",
       "    <tr>\n",
       "      <th>3</th>\n",
       "      <td>2003-02-03</td>\n",
       "      <td>2003-02-03 21:57:04</td>\n",
       "      <td>KRC</td>\n",
       "      <td>Counter({'contents': 29, 'table': 29, 'kilroy'...</td>\n",
       "      <td>['']</td>\n",
       "      <td>\\n\\nTEXT:\\nOn February 3, 2003 the Company iss...</td>\n",
       "      <td>KRC/KRC-8K-20030203215704.txt.gz</td>\n",
       "      <td>3</td>\n",
       "      <td>21.84</td>\n",
       "      <td>21.84</td>\n",
       "      <td>21.59</td>\n",
       "      <td>21.70</td>\n",
       "      <td>230700</td>\n",
       "      <td>13.61</td>\n",
       "      <td>-0.656934</td>\n",
       "      <td>-0.045767</td>\n",
       "      <td>-0.686499</td>\n",
       "      <td>-0.230415</td>\n",
       "      <td>-0.230415</td>\n",
       "    </tr>\n",
       "    <tr>\n",
       "      <th>4</th>\n",
       "      <td>2003-04-29</td>\n",
       "      <td>2003-04-29 08:24:19</td>\n",
       "      <td>KRC</td>\n",
       "      <td>Counter({\"company's\": 24, 'kilroy': 14, 'ffo':...</td>\n",
       "      <td>['Regulation FD Disclosure']</td>\n",
       "      <td>\\n\\nTEXT:\\nIn accordance with SEC Release No. ...</td>\n",
       "      <td>KRC/KRC-8K-20030429082419.txt.gz</td>\n",
       "      <td>1</td>\n",
       "      <td>24.04</td>\n",
       "      <td>24.35</td>\n",
       "      <td>23.98</td>\n",
       "      <td>24.27</td>\n",
       "      <td>407300</td>\n",
       "      <td>15.55</td>\n",
       "      <td>1.236979</td>\n",
       "      <td>0.333890</td>\n",
       "      <td>1.293823</td>\n",
       "      <td>1.771735</td>\n",
       "      <td>0.333890</td>\n",
       "    </tr>\n",
       "  </tbody>\n",
       "</table>\n",
       "</div>"
      ],
      "text/plain": [
       "        Date           timestamp ticker  \\\n",
       "0 2002-07-24 2002-07-24 21:39:56    KRC   \n",
       "1 2002-08-12 2002-08-12 20:56:04    KRC   \n",
       "2 2002-10-28 2002-10-28 21:06:49    KRC   \n",
       "3 2003-02-03 2003-02-03 21:57:04    KRC   \n",
       "4 2003-04-29 2003-04-29 08:24:19    KRC   \n",
       "\n",
       "                                                 bow  \\\n",
       "0  Counter({'kilroy': 28, 'realty': 25, 'forward-...   \n",
       "1  Counter({'quarterly': 8, 'report': 7, 'section...   \n",
       "2  Counter({'kilroy': 29, 'realty': 26, 'forward-...   \n",
       "3  Counter({'contents': 29, 'table': 29, 'kilroy'...   \n",
       "4  Counter({\"company's\": 24, 'kilroy': 14, 'ffo':...   \n",
       "\n",
       "                          items  \\\n",
       "0                          ['']   \n",
       "1                          ['']   \n",
       "2                          ['']   \n",
       "3                          ['']   \n",
       "4  ['Regulation FD Disclosure']   \n",
       "\n",
       "                                                text  \\\n",
       "0  \\nTEXT:\\nOn July 24, 2002 the Company issued a...   \n",
       "1  \\n\\nTEXT:\\nOn August 12, 2002, the Registrant ...   \n",
       "2  \\n\\nTEXT:\\nOn October 28, 2002 the Company iss...   \n",
       "3  \\n\\nTEXT:\\nOn February 3, 2003 the Company iss...   \n",
       "4  \\n\\nTEXT:\\nIn accordance with SEC Release No. ...   \n",
       "\n",
       "                          orig_file release_time_type   Open   High    Low  \\\n",
       "0  KRC/KRC-8K-20020724213956.txt.gz                 3  22.00  22.80  21.12   \n",
       "1  KRC/KRC-8K-20020812205604.txt.gz                 3  22.77  23.50  22.58   \n",
       "2  KRC/KRC-8K-20021028210649.txt.gz                 3  21.68  21.68  21.35   \n",
       "3  KRC/KRC-8K-20030203215704.txt.gz                 3  21.84  21.84  21.59   \n",
       "4  KRC/KRC-8K-20030429082419.txt.gz                 1  24.04  24.35  23.98   \n",
       "\n",
       "   Close  Volume  Adj Close    return  Before Market  During Market  \\\n",
       "0  22.17  236700      13.34  0.527506      -0.226757       0.544218   \n",
       "1  23.41   40200      14.08  1.881331      -0.870701       1.915542   \n",
       "2  21.50   70300      13.21  0.000000       0.837209       0.000000   \n",
       "3  21.70  230700      13.61 -0.656934      -0.045767      -0.686499   \n",
       "4  24.27  407300      15.55  1.236979       0.333890       1.293823   \n",
       "\n",
       "   After Market  stock_performance  \n",
       "0      0.360848           0.360848  \n",
       "1      0.384451           0.384451  \n",
       "2      0.000000           0.000000  \n",
       "3     -0.230415          -0.230415  \n",
       "4      1.771735           0.333890  "
      ]
     },
     "execution_count": 35,
     "metadata": {},
     "output_type": "execute_result"
    }
   ],
   "source": [
    "combined.head(5)"
   ]
  },
  {
   "cell_type": "code",
   "execution_count": null,
   "metadata": {
    "collapsed": true
   },
   "outputs": [],
   "source": [
    "import pickle \n",
    "pickle.dump(combined, open(\"/home/nyao111/266/FinalProject/Combined_fulldata\", \"rb\"))"
   ]
  },
  {
   "cell_type": "code",
   "execution_count": 2,
   "metadata": {
    "collapsed": true
   },
   "outputs": [],
   "source": [
    "import pickle\n",
    "combined=pickle.load(open(\"/home/nyao111/266/FinalProject/Combined_fulldata\", \"rb\"))"
   ]
  },
  {
   "cell_type": "code",
   "execution_count": 12,
   "metadata": {
    "collapsed": false
   },
   "outputs": [
    {
     "data": {
      "text/html": [
       "<div>\n",
       "<table border=\"1\" class=\"dataframe\">\n",
       "  <thead>\n",
       "    <tr style=\"text-align: right;\">\n",
       "      <th></th>\n",
       "      <th>Date</th>\n",
       "      <th>timestamp</th>\n",
       "      <th>ticker</th>\n",
       "      <th>bow</th>\n",
       "      <th>items</th>\n",
       "      <th>text</th>\n",
       "      <th>orig_file</th>\n",
       "      <th>release_time_type</th>\n",
       "      <th>Open</th>\n",
       "      <th>High</th>\n",
       "      <th>Low</th>\n",
       "      <th>Close</th>\n",
       "      <th>Volume</th>\n",
       "      <th>Adj Close</th>\n",
       "      <th>return</th>\n",
       "      <th>Before Market</th>\n",
       "      <th>During Market</th>\n",
       "      <th>After Market</th>\n",
       "      <th>stock_performance</th>\n",
       "    </tr>\n",
       "  </thead>\n",
       "  <tbody>\n",
       "    <tr>\n",
       "      <th>0</th>\n",
       "      <td>2002-07-24</td>\n",
       "      <td>2002-07-24 21:39:56</td>\n",
       "      <td>KRC</td>\n",
       "      <td>Counter({'kilroy': 28, 'realty': 25, 'forward-...</td>\n",
       "      <td>['']</td>\n",
       "      <td>\\nTEXT:\\nOn July 24, 2002 the Company issued a...</td>\n",
       "      <td>KRC/KRC-8K-20020724213956.txt.gz</td>\n",
       "      <td>3</td>\n",
       "      <td>22.00</td>\n",
       "      <td>22.80</td>\n",
       "      <td>21.12</td>\n",
       "      <td>22.17</td>\n",
       "      <td>236700</td>\n",
       "      <td>13.34</td>\n",
       "      <td>0.527506</td>\n",
       "      <td>-0.226757</td>\n",
       "      <td>0.544218</td>\n",
       "      <td>0.360848</td>\n",
       "      <td>0.360848</td>\n",
       "    </tr>\n",
       "    <tr>\n",
       "      <th>1</th>\n",
       "      <td>2002-08-12</td>\n",
       "      <td>2002-08-12 20:56:04</td>\n",
       "      <td>KRC</td>\n",
       "      <td>Counter({'quarterly': 8, 'report': 7, 'section...</td>\n",
       "      <td>['']</td>\n",
       "      <td>\\n\\nTEXT:\\nOn August 12, 2002, the Registrant ...</td>\n",
       "      <td>KRC/KRC-8K-20020812205604.txt.gz</td>\n",
       "      <td>3</td>\n",
       "      <td>22.77</td>\n",
       "      <td>23.50</td>\n",
       "      <td>22.58</td>\n",
       "      <td>23.41</td>\n",
       "      <td>40200</td>\n",
       "      <td>14.08</td>\n",
       "      <td>1.881331</td>\n",
       "      <td>-0.870701</td>\n",
       "      <td>1.915542</td>\n",
       "      <td>0.384451</td>\n",
       "      <td>0.384451</td>\n",
       "    </tr>\n",
       "    <tr>\n",
       "      <th>2</th>\n",
       "      <td>2002-10-28</td>\n",
       "      <td>2002-10-28 21:06:49</td>\n",
       "      <td>KRC</td>\n",
       "      <td>Counter({'kilroy': 29, 'realty': 26, 'forward-...</td>\n",
       "      <td>['']</td>\n",
       "      <td>\\n\\nTEXT:\\nOn October 28, 2002 the Company iss...</td>\n",
       "      <td>KRC/KRC-8K-20021028210649.txt.gz</td>\n",
       "      <td>3</td>\n",
       "      <td>21.68</td>\n",
       "      <td>21.68</td>\n",
       "      <td>21.35</td>\n",
       "      <td>21.50</td>\n",
       "      <td>70300</td>\n",
       "      <td>13.21</td>\n",
       "      <td>0.000000</td>\n",
       "      <td>0.837209</td>\n",
       "      <td>0.000000</td>\n",
       "      <td>0.000000</td>\n",
       "      <td>0.000000</td>\n",
       "    </tr>\n",
       "  </tbody>\n",
       "</table>\n",
       "</div>"
      ],
      "text/plain": [
       "        Date           timestamp ticker  \\\n",
       "0 2002-07-24 2002-07-24 21:39:56    KRC   \n",
       "1 2002-08-12 2002-08-12 20:56:04    KRC   \n",
       "2 2002-10-28 2002-10-28 21:06:49    KRC   \n",
       "\n",
       "                                                 bow items  \\\n",
       "0  Counter({'kilroy': 28, 'realty': 25, 'forward-...  ['']   \n",
       "1  Counter({'quarterly': 8, 'report': 7, 'section...  ['']   \n",
       "2  Counter({'kilroy': 29, 'realty': 26, 'forward-...  ['']   \n",
       "\n",
       "                                                text  \\\n",
       "0  \\nTEXT:\\nOn July 24, 2002 the Company issued a...   \n",
       "1  \\n\\nTEXT:\\nOn August 12, 2002, the Registrant ...   \n",
       "2  \\n\\nTEXT:\\nOn October 28, 2002 the Company iss...   \n",
       "\n",
       "                          orig_file release_time_type   Open   High    Low  \\\n",
       "0  KRC/KRC-8K-20020724213956.txt.gz                 3  22.00  22.80  21.12   \n",
       "1  KRC/KRC-8K-20020812205604.txt.gz                 3  22.77  23.50  22.58   \n",
       "2  KRC/KRC-8K-20021028210649.txt.gz                 3  21.68  21.68  21.35   \n",
       "\n",
       "   Close  Volume  Adj Close    return  Before Market  During Market  \\\n",
       "0  22.17  236700      13.34  0.527506      -0.226757       0.544218   \n",
       "1  23.41   40200      14.08  1.881331      -0.870701       1.915542   \n",
       "2  21.50   70300      13.21  0.000000       0.837209       0.000000   \n",
       "\n",
       "   After Market  stock_performance  \n",
       "0      0.360848           0.360848  \n",
       "1      0.384451           0.384451  \n",
       "2      0.000000           0.000000  "
      ]
     },
     "execution_count": 12,
     "metadata": {},
     "output_type": "execute_result"
    }
   ],
   "source": [
    "combined.head(3)"
   ]
  },
  {
   "cell_type": "code",
   "execution_count": 3,
   "metadata": {
    "collapsed": false,
    "scrolled": false
   },
   "outputs": [
    {
     "name": "stdout",
     "output_type": "stream",
     "text": [
      "2543\n"
     ]
    }
   ],
   "source": [
    "import EPS_Parser as ep\n",
    "reload(ep)\n",
    "\n",
    "#Read in all EPS data; update the path based on your directory setup\n",
    "path = r\"/home/nyao111/266/FinalProject/EPS_parsed\"\n",
    "allFiles = glob.glob(path + \"/*.csv\")\n",
    "print len(allFiles)\n",
    "frame = pd.DataFrame()\n",
    "list_ = []\n",
    "for file_ in allFiles:\n",
    "    df = pd.read_csv(file_,index_col=None, header=0)\n",
    "    list_.append(df)\n",
    "EPS = pd.concat(list_)\n",
    "\n",
    "#Rename symbol to ticker\n",
    "EPS = EPS.rename(columns = {'Symbol':'ticker'})"
   ]
  },
  {
   "cell_type": "code",
   "execution_count": 4,
   "metadata": {
    "collapsed": false
   },
   "outputs": [],
   "source": [
    "EPS[\"Date\"]=pd.to_datetime(EPS[\"Date\"])"
   ]
  },
  {
   "cell_type": "code",
   "execution_count": 5,
   "metadata": {
    "collapsed": false
   },
   "outputs": [
    {
     "name": "stdout",
     "output_type": "stream",
     "text": [
      "(37503, 24)\n"
     ]
    }
   ],
   "source": [
    "combined_w_eps = pd.merge(EPS, combined, how='inner', on=['ticker','Date'])\n",
    "combined_w_eps.head(3)\n",
    "print combined_w_eps.shape"
   ]
  },
  {
   "cell_type": "code",
   "execution_count": 6,
   "metadata": {
    "collapsed": false
   },
   "outputs": [
    {
     "data": {
      "text/html": [
       "<div>\n",
       "<table border=\"1\" class=\"dataframe\">\n",
       "  <thead>\n",
       "    <tr style=\"text-align: right;\">\n",
       "      <th></th>\n",
       "      <th>Unnamed: 0</th>\n",
       "      <th>Company</th>\n",
       "      <th>ticker</th>\n",
       "      <th>Surprise</th>\n",
       "      <th>Reported_EPS</th>\n",
       "      <th>Consensus_EPS</th>\n",
       "      <th>Date</th>\n",
       "      <th>timestamp</th>\n",
       "      <th>bow</th>\n",
       "      <th>items</th>\n",
       "      <th>...</th>\n",
       "      <th>High</th>\n",
       "      <th>Low</th>\n",
       "      <th>Close</th>\n",
       "      <th>Volume</th>\n",
       "      <th>Adj Close</th>\n",
       "      <th>return</th>\n",
       "      <th>Before Market</th>\n",
       "      <th>During Market</th>\n",
       "      <th>After Market</th>\n",
       "      <th>stock_performance</th>\n",
       "    </tr>\n",
       "  </thead>\n",
       "  <tbody>\n",
       "    <tr>\n",
       "      <th>0</th>\n",
       "      <td>2</td>\n",
       "      <td>Accenture plc. Class A Ordinary</td>\n",
       "      <td>ACN</td>\n",
       "      <td>3.08</td>\n",
       "      <td>0.67</td>\n",
       "      <td>0.65</td>\n",
       "      <td>2009-12-17</td>\n",
       "      <td>2009-12-17 16:16:34</td>\n",
       "      <td>Counter({'quarter': 36, 'first': 29, 'fiscal':...</td>\n",
       "      <td>['Results of Operations and Financial Conditio...</td>\n",
       "      <td>...</td>\n",
       "      <td>42.00</td>\n",
       "      <td>41.27</td>\n",
       "      <td>41.66</td>\n",
       "      <td>5040600</td>\n",
       "      <td>39.20</td>\n",
       "      <td>-0.431801</td>\n",
       "      <td>-0.693117</td>\n",
       "      <td>-0.430210</td>\n",
       "      <td>-2.184349</td>\n",
       "      <td>-2.184349</td>\n",
       "    </tr>\n",
       "    <tr>\n",
       "      <th>1</th>\n",
       "      <td>3</td>\n",
       "      <td>Actuant Corporation Common Stoc</td>\n",
       "      <td>ATU</td>\n",
       "      <td>25.00</td>\n",
       "      <td>0.20</td>\n",
       "      <td>0.16</td>\n",
       "      <td>2009-12-17</td>\n",
       "      <td>2009-12-17 08:00:27</td>\n",
       "      <td>Counter({'quarter': 30, 'first': 24, 'million'...</td>\n",
       "      <td>['Results of Operations and Financial Conditio...</td>\n",
       "      <td>...</td>\n",
       "      <td>18.65</td>\n",
       "      <td>17.03</td>\n",
       "      <td>17.43</td>\n",
       "      <td>1042500</td>\n",
       "      <td>17.34</td>\n",
       "      <td>-0.970874</td>\n",
       "      <td>4.318182</td>\n",
       "      <td>-0.965909</td>\n",
       "      <td>2.180149</td>\n",
       "      <td>4.318182</td>\n",
       "    </tr>\n",
       "    <tr>\n",
       "      <th>2</th>\n",
       "      <td>6</td>\n",
       "      <td>Darden Restaurants, Inc. Common</td>\n",
       "      <td>DRI</td>\n",
       "      <td>2.38</td>\n",
       "      <td>0.43</td>\n",
       "      <td>0.42</td>\n",
       "      <td>2009-12-17</td>\n",
       "      <td>2009-12-17 17:15:50</td>\n",
       "      <td>Counter({'sales': 31, 'fiscal': 22, 'quarter':...</td>\n",
       "      <td>['Results of Operations and Financial Conditio...</td>\n",
       "      <td>...</td>\n",
       "      <td>33.25</td>\n",
       "      <td>32.67</td>\n",
       "      <td>32.75</td>\n",
       "      <td>2276700</td>\n",
       "      <td>29.40</td>\n",
       "      <td>-1.836394</td>\n",
       "      <td>-0.959233</td>\n",
       "      <td>-1.828537</td>\n",
       "      <td>0.793893</td>\n",
       "      <td>0.793893</td>\n",
       "    </tr>\n",
       "  </tbody>\n",
       "</table>\n",
       "<p>3 rows × 24 columns</p>\n",
       "</div>"
      ],
      "text/plain": [
       "   Unnamed: 0                          Company ticker  Surprise  Reported_EPS  \\\n",
       "0           2  Accenture plc. Class A Ordinary    ACN      3.08          0.67   \n",
       "1           3  Actuant Corporation Common Stoc    ATU     25.00          0.20   \n",
       "2           6  Darden Restaurants, Inc. Common    DRI      2.38          0.43   \n",
       "\n",
       "   Consensus_EPS       Date           timestamp  \\\n",
       "0           0.65 2009-12-17 2009-12-17 16:16:34   \n",
       "1           0.16 2009-12-17 2009-12-17 08:00:27   \n",
       "2           0.42 2009-12-17 2009-12-17 17:15:50   \n",
       "\n",
       "                                                 bow  \\\n",
       "0  Counter({'quarter': 36, 'first': 29, 'fiscal':...   \n",
       "1  Counter({'quarter': 30, 'first': 24, 'million'...   \n",
       "2  Counter({'sales': 31, 'fiscal': 22, 'quarter':...   \n",
       "\n",
       "                                               items        ...          \\\n",
       "0  ['Results of Operations and Financial Conditio...        ...           \n",
       "1  ['Results of Operations and Financial Conditio...        ...           \n",
       "2  ['Results of Operations and Financial Conditio...        ...           \n",
       "\n",
       "    High    Low  Close   Volume  Adj Close    return  Before Market  \\\n",
       "0  42.00  41.27  41.66  5040600      39.20 -0.431801      -0.693117   \n",
       "1  18.65  17.03  17.43  1042500      17.34 -0.970874       4.318182   \n",
       "2  33.25  32.67  32.75  2276700      29.40 -1.836394      -0.959233   \n",
       "\n",
       "   During Market  After Market  stock_performance  \n",
       "0      -0.430210     -2.184349          -2.184349  \n",
       "1      -0.965909      2.180149           4.318182  \n",
       "2      -1.828537      0.793893           0.793893  \n",
       "\n",
       "[3 rows x 24 columns]"
      ]
     },
     "execution_count": 6,
     "metadata": {},
     "output_type": "execute_result"
    }
   ],
   "source": [
    "combined_w_eps.head(3)"
   ]
  },
  {
   "cell_type": "code",
   "execution_count": 12,
   "metadata": {
    "collapsed": false
   },
   "outputs": [
    {
     "data": {
      "text/plain": [
       "(195140, 19)"
      ]
     },
     "execution_count": 12,
     "metadata": {},
     "output_type": "execute_result"
    }
   ],
   "source": [
    "combined.shape"
   ]
  },
  {
   "cell_type": "markdown",
   "metadata": {
    "collapsed": true
   },
   "source": [
    "### Load previously-saved data\n"
   ]
  },
  {
   "cell_type": "code",
   "execution_count": 16,
   "metadata": {
    "collapsed": false
   },
   "outputs": [],
   "source": [
    "data=pickle.load(open(\"/home/nyao111/266/FinalProject/Fulldata_combined_w_eps\"))\n",
    "market_data=pickle.load(open(\"/home/nyao111/266/FinalProject/market_data\"))"
   ]
  },
  {
   "cell_type": "code",
   "execution_count": 17,
   "metadata": {
    "collapsed": false
   },
   "outputs": [],
   "source": [
    "##########Drop Columns not used#########\n",
    "data = data.drop(['Before Market', 'During Market', 'After Market','High','Low','Close','Volume',\\\n",
    "                  'Open', 'Adj Close'], axis=1)\n",
    "\n",
    "#########Combine stock return with market return\n",
    "combined = pd.merge(data, market_data[['Date', 'Market Before', 'Market During', 'Market After' ]],\\\n",
    "                    how='left', on=['Date'])\n",
    "\n",
    "#########Select market return based on report release time####\n",
    "combined['market_performance'] = 0\n",
    "combined['market_performance'] = \\\n",
    "  combined.release_time_type.apply(lambda x: 1 if x ==1 else 0)*combined['Market Before']\\\n",
    "+ combined.release_time_type.apply(lambda x: 1 if x ==2 else 0)*combined['Market During']\\\n",
    "+ combined.release_time_type.apply(lambda x: 1 if x ==3 else 0)*combined['Market After']\n",
    "\n",
    "combined = combined.drop(['Market Before', 'Market During', 'Market After'], axis=1)\n",
    "\n",
    "\n",
    "#Finally, create the label for our model.  A normalized return by taking the difference\n",
    "#between stock return and market return.  If the difference >  1%: UP\n",
    "#                                                           < -1%: DOWN\n",
    "#                                                            else: STAY\n",
    "############################################################################################################\n",
    "combined['normalized_performance'] = combined.stock_performance - combined.market_performance\n",
    "combined['label'] = combined.normalized_performance\n",
    "combined['label'] = combined.label.apply(lambda x: 'UP' if x >1 else x)\n",
    "combined['label'] = combined.label.apply(lambda x: 'DOWN' if (isinstance(x, str) == 0 and x <-1) else x)\n",
    "combined['label'] = combined.label.apply(lambda x: x if isinstance(x, str) else 'STAY')"
   ]
  },
  {
   "cell_type": "code",
   "execution_count": 19,
   "metadata": {
    "collapsed": false
   },
   "outputs": [
    {
     "data": {
      "text/html": [
       "<div>\n",
       "<table border=\"1\" class=\"dataframe\">\n",
       "  <thead>\n",
       "    <tr style=\"text-align: right;\">\n",
       "      <th></th>\n",
       "      <th>Unnamed: 0</th>\n",
       "      <th>Company</th>\n",
       "      <th>ticker</th>\n",
       "      <th>Surprise</th>\n",
       "      <th>Reported_EPS</th>\n",
       "      <th>Consensus_EPS</th>\n",
       "      <th>Date</th>\n",
       "      <th>timestamp</th>\n",
       "      <th>bow</th>\n",
       "      <th>items</th>\n",
       "      <th>text</th>\n",
       "      <th>orig_file</th>\n",
       "      <th>release_time_type</th>\n",
       "      <th>return</th>\n",
       "      <th>stock_performance</th>\n",
       "      <th>market_performance</th>\n",
       "      <th>normalized_performance</th>\n",
       "      <th>label</th>\n",
       "    </tr>\n",
       "  </thead>\n",
       "  <tbody>\n",
       "    <tr>\n",
       "      <th>0</th>\n",
       "      <td>2</td>\n",
       "      <td>Accenture plc. Class A Ordinary</td>\n",
       "      <td>ACN</td>\n",
       "      <td>3.08</td>\n",
       "      <td>0.67</td>\n",
       "      <td>0.65</td>\n",
       "      <td>2009-12-17</td>\n",
       "      <td>2009-12-17 16:16:34</td>\n",
       "      <td>Counter({'quarter': 36, 'first': 29, 'fiscal':...</td>\n",
       "      <td>['Results of Operations and Financial Conditio...</td>\n",
       "      <td>\\n\\nTEXT:\\nCheck the appropriate box below if ...</td>\n",
       "      <td>ACN/ACN-8K-20091217161634.txt.gz</td>\n",
       "      <td>3</td>\n",
       "      <td>-0.431801</td>\n",
       "      <td>-2.184349</td>\n",
       "      <td>0.162397</td>\n",
       "      <td>-2.346746</td>\n",
       "      <td>DOWN</td>\n",
       "    </tr>\n",
       "    <tr>\n",
       "      <th>1</th>\n",
       "      <td>3</td>\n",
       "      <td>Actuant Corporation Common Stoc</td>\n",
       "      <td>ATU</td>\n",
       "      <td>25.00</td>\n",
       "      <td>0.20</td>\n",
       "      <td>0.16</td>\n",
       "      <td>2009-12-17</td>\n",
       "      <td>2009-12-17 08:00:27</td>\n",
       "      <td>Counter({'quarter': 30, 'first': 24, 'million'...</td>\n",
       "      <td>['Results of Operations and Financial Conditio...</td>\n",
       "      <td>\\n\\nTEXT:\\nUNITED STATES\\nSECURITIES AND EXCHA...</td>\n",
       "      <td>ATU/ATU-8K-20091217080027.txt.gz</td>\n",
       "      <td>1</td>\n",
       "      <td>-0.970874</td>\n",
       "      <td>4.318182</td>\n",
       "      <td>-0.254242</td>\n",
       "      <td>4.572424</td>\n",
       "      <td>UP</td>\n",
       "    </tr>\n",
       "    <tr>\n",
       "      <th>2</th>\n",
       "      <td>6</td>\n",
       "      <td>Darden Restaurants, Inc. Common</td>\n",
       "      <td>DRI</td>\n",
       "      <td>2.38</td>\n",
       "      <td>0.43</td>\n",
       "      <td>0.42</td>\n",
       "      <td>2009-12-17</td>\n",
       "      <td>2009-12-17 17:15:50</td>\n",
       "      <td>Counter({'sales': 31, 'fiscal': 22, 'quarter':...</td>\n",
       "      <td>['Results of Operations and Financial Conditio...</td>\n",
       "      <td>\\n\\nTEXT:\\nCheck the appropriate box below if ...</td>\n",
       "      <td>DRI/DRI-8K-20091217171550.txt.gz</td>\n",
       "      <td>3</td>\n",
       "      <td>-1.836394</td>\n",
       "      <td>0.793893</td>\n",
       "      <td>0.162397</td>\n",
       "      <td>0.631496</td>\n",
       "      <td>STAY</td>\n",
       "    </tr>\n",
       "    <tr>\n",
       "      <th>3</th>\n",
       "      <td>8</td>\n",
       "      <td>FedEx Corporation Common Stock</td>\n",
       "      <td>FDX</td>\n",
       "      <td>3.77</td>\n",
       "      <td>1.10</td>\n",
       "      <td>1.06</td>\n",
       "      <td>2009-12-17</td>\n",
       "      <td>2009-12-17 08:02:09</td>\n",
       "      <td>Counter({'fedex': 33, 'fuel': 11, 'second': 10...</td>\n",
       "      <td>['Results of Operations and Financial Conditio...</td>\n",
       "      <td>\\n\\nTEXT:\\nCheck the appropriate box below if ...</td>\n",
       "      <td>FDX/FDX-8K-20091217080209.txt.gz</td>\n",
       "      <td>1</td>\n",
       "      <td>-6.090106</td>\n",
       "      <td>-3.846581</td>\n",
       "      <td>-0.254242</td>\n",
       "      <td>-3.592340</td>\n",
       "      <td>DOWN</td>\n",
       "    </tr>\n",
       "    <tr>\n",
       "      <th>4</th>\n",
       "      <td>9</td>\n",
       "      <td>General Mills, Inc. Common Stoc</td>\n",
       "      <td>GIS</td>\n",
       "      <td>6.94</td>\n",
       "      <td>0.77</td>\n",
       "      <td>0.72</td>\n",
       "      <td>2009-12-17</td>\n",
       "      <td>2009-12-17 08:16:14</td>\n",
       "      <td>Counter({'net': 38, 'sales': 37, 'percent': 36...</td>\n",
       "      <td>['Results of Operations and Financial Conditio...</td>\n",
       "      <td>\\n\\nTEXT:\\nRegistrant's telephone number, incl...</td>\n",
       "      <td>GIS/GIS-8K-20091217081614.txt.gz</td>\n",
       "      <td>1</td>\n",
       "      <td>1.101393</td>\n",
       "      <td>0.893249</td>\n",
       "      <td>-0.254242</td>\n",
       "      <td>1.147491</td>\n",
       "      <td>UP</td>\n",
       "    </tr>\n",
       "  </tbody>\n",
       "</table>\n",
       "</div>"
      ],
      "text/plain": [
       "   Unnamed: 0                          Company ticker  Surprise  Reported_EPS  \\\n",
       "0           2  Accenture plc. Class A Ordinary    ACN      3.08          0.67   \n",
       "1           3  Actuant Corporation Common Stoc    ATU     25.00          0.20   \n",
       "2           6  Darden Restaurants, Inc. Common    DRI      2.38          0.43   \n",
       "3           8   FedEx Corporation Common Stock    FDX      3.77          1.10   \n",
       "4           9  General Mills, Inc. Common Stoc    GIS      6.94          0.77   \n",
       "\n",
       "   Consensus_EPS       Date           timestamp  \\\n",
       "0           0.65 2009-12-17 2009-12-17 16:16:34   \n",
       "1           0.16 2009-12-17 2009-12-17 08:00:27   \n",
       "2           0.42 2009-12-17 2009-12-17 17:15:50   \n",
       "3           1.06 2009-12-17 2009-12-17 08:02:09   \n",
       "4           0.72 2009-12-17 2009-12-17 08:16:14   \n",
       "\n",
       "                                                 bow  \\\n",
       "0  Counter({'quarter': 36, 'first': 29, 'fiscal':...   \n",
       "1  Counter({'quarter': 30, 'first': 24, 'million'...   \n",
       "2  Counter({'sales': 31, 'fiscal': 22, 'quarter':...   \n",
       "3  Counter({'fedex': 33, 'fuel': 11, 'second': 10...   \n",
       "4  Counter({'net': 38, 'sales': 37, 'percent': 36...   \n",
       "\n",
       "                                               items  \\\n",
       "0  ['Results of Operations and Financial Conditio...   \n",
       "1  ['Results of Operations and Financial Conditio...   \n",
       "2  ['Results of Operations and Financial Conditio...   \n",
       "3  ['Results of Operations and Financial Conditio...   \n",
       "4  ['Results of Operations and Financial Conditio...   \n",
       "\n",
       "                                                text  \\\n",
       "0  \\n\\nTEXT:\\nCheck the appropriate box below if ...   \n",
       "1  \\n\\nTEXT:\\nUNITED STATES\\nSECURITIES AND EXCHA...   \n",
       "2  \\n\\nTEXT:\\nCheck the appropriate box below if ...   \n",
       "3  \\n\\nTEXT:\\nCheck the appropriate box below if ...   \n",
       "4  \\n\\nTEXT:\\nRegistrant's telephone number, incl...   \n",
       "\n",
       "                          orig_file release_time_type    return  \\\n",
       "0  ACN/ACN-8K-20091217161634.txt.gz                 3 -0.431801   \n",
       "1  ATU/ATU-8K-20091217080027.txt.gz                 1 -0.970874   \n",
       "2  DRI/DRI-8K-20091217171550.txt.gz                 3 -1.836394   \n",
       "3  FDX/FDX-8K-20091217080209.txt.gz                 1 -6.090106   \n",
       "4  GIS/GIS-8K-20091217081614.txt.gz                 1  1.101393   \n",
       "\n",
       "   stock_performance  market_performance  normalized_performance label  \n",
       "0          -2.184349            0.162397               -2.346746  DOWN  \n",
       "1           4.318182           -0.254242                4.572424    UP  \n",
       "2           0.793893            0.162397                0.631496  STAY  \n",
       "3          -3.846581           -0.254242               -3.592340  DOWN  \n",
       "4           0.893249           -0.254242                1.147491    UP  "
      ]
     },
     "execution_count": 19,
     "metadata": {},
     "output_type": "execute_result"
    }
   ],
   "source": [
    "combined.head()"
   ]
  },
  {
   "cell_type": "code",
   "execution_count": 20,
   "metadata": {
    "collapsed": false
   },
   "outputs": [],
   "source": [
    "pickle.dump(combined, open(\"/home/nyao111/266/FinalProject/Fulldata_wY\", 'wb'))"
   ]
  },
  {
   "cell_type": "code",
   "execution_count": 21,
   "metadata": {
    "collapsed": false
   },
   "outputs": [
    {
     "data": {
      "text/plain": [
       "Index([u'Unnamed: 0', u'Company', u'ticker', u'Surprise', u'Reported_EPS',\n",
       "       u'Consensus_EPS', u'Date', u'timestamp', u'bow', u'items', u'text',\n",
       "       u'orig_file', u'release_time_type', u'Open', u'High', u'Low', u'Close',\n",
       "       u'Volume', u'Adj Close', u'return', u'Before Market', u'During Market',\n",
       "       u'After Market', u'stock_performance'],\n",
       "      dtype='object')"
      ]
     },
     "execution_count": 21,
     "metadata": {},
     "output_type": "execute_result"
    }
   ],
   "source": [
    "combined_w_eps.keys()"
   ]
  },
  {
   "cell_type": "markdown",
   "metadata": {},
   "source": [
    "### Making count vectors"
   ]
  },
  {
   "cell_type": "code",
   "execution_count": 15,
   "metadata": {
    "collapsed": false
   },
   "outputs": [
    {
     "data": {
      "text/plain": [
       "Index([u'Unnamed: 0', u'Company', u'ticker', u'Surprise', u'Reported_EPS',\n",
       "       u'Consensus_EPS', u'Date', u'timestamp', u'bow', u'items', u'text',\n",
       "       u'orig_file', u'release_time_type', u'Open', u'High', u'Low', u'Close',\n",
       "       u'Volume', u'Adj Close', u'return', u'Before Market', u'During Market',\n",
       "       u'After Market', u'stock_performance'],\n",
       "      dtype='object')"
      ]
     },
     "execution_count": 15,
     "metadata": {},
     "output_type": "execute_result"
    }
   ],
   "source": [
    "combined_w_eps.keys()"
   ]
  },
  {
   "cell_type": "code",
   "execution_count": 16,
   "metadata": {
    "collapsed": false
   },
   "outputs": [
    {
     "data": {
      "text/plain": [
       "(37503, 22)"
      ]
     },
     "execution_count": 16,
     "metadata": {},
     "output_type": "execute_result"
    }
   ],
   "source": [
    "numeric=combined_w_eps.drop([\"bow\", 'text'], axis=1)\n",
    "numeric.shape"
   ]
  },
  {
   "cell_type": "code",
   "execution_count": 48,
   "metadata": {
    "collapsed": false
   },
   "outputs": [
    {
     "data": {
      "text/plain": [
       "578"
      ]
     },
     "execution_count": 48,
     "metadata": {},
     "output_type": "execute_result"
    }
   ],
   "source": [
    "from collections import Counter\n",
    "example=eval(combined_w_eps.loc[ 2:5, 'bow'])\n",
    "len(example)"
   ]
  },
  {
   "cell_type": "code",
   "execution_count": 49,
   "metadata": {
    "collapsed": true
   },
   "outputs": [],
   "source": [
    "bow_vector=vectorizer1.fit_transform(example)"
   ]
  },
  {
   "cell_type": "code",
   "execution_count": 17,
   "metadata": {
    "collapsed": true
   },
   "outputs": [],
   "source": [
    "vectorizer1=CountVectorizer(stop_words='english')\n",
    "text_vector=vectorizer1.fit_transform(combined_w_eps[\"text\"])"
   ]
  },
  {
   "cell_type": "code",
   "execution_count": 21,
   "metadata": {
    "collapsed": false
   },
   "outputs": [
    {
     "name": "stdout",
     "output_type": "stream",
     "text": [
      "(37503, 140874)\n"
     ]
    }
   ],
   "source": [
    "print  text_vector.shape"
   ]
  },
  {
   "cell_type": "code",
   "execution_count": null,
   "metadata": {
    "collapsed": true
   },
   "outputs": [],
   "source": [
    "## Non-negative factorization of the vectors, may need to try more\n",
    "from sklearn.decomposition import NMF\n",
    "model = NMF(n_components=5000, init='random', random_state=0)\n",
    "text_nmf = model.fit(text_vector)"
   ]
  },
  {
   "cell_type": "code",
   "execution_count": 18,
   "metadata": {
    "collapsed": false
   },
   "outputs": [],
   "source": [
    "pickle.dump(text_vector, open(\"Text_CountVec_eps\", 'wb'))\n",
    "pickle.dump(combined_w_eps, open(\"Fulldata_combined_w_eps\", \"wb\"))\n",
    "pickle.dump(numeric,open(\"NumericData\", \"wb\") )"
   ]
  },
  {
   "cell_type": "code",
   "execution_count": null,
   "metadata": {
    "collapsed": true
   },
   "outputs": [],
   "source": []
  }
 ],
 "metadata": {
  "kernelspec": {
   "display_name": "Python [conda env:crawl]",
   "language": "python",
   "name": "conda-env-crawl-py"
  },
  "language_info": {
   "codemirror_mode": {
    "name": "ipython",
    "version": 3
   },
   "file_extension": ".py",
   "mimetype": "text/x-python",
   "name": "python",
   "nbconvert_exporter": "python",
   "pygments_lexer": "ipython3",
   "version": "3.5.2"
  }
 },
 "nbformat": 4,
 "nbformat_minor": 0
}
