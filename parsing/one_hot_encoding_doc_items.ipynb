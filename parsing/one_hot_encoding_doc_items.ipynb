{
 "cells": [
  {
   "cell_type": "markdown",
   "metadata": {},
   "source": [
    "## One Hot Encoding of document \"Item\"s"
   ]
  },
  {
   "cell_type": "code",
   "execution_count": 1,
   "metadata": {
    "collapsed": true
   },
   "outputs": [],
   "source": [
    "import glob\n",
    "import cPickle as pk\n",
    "import pandas as pd\n",
    "import numpy as np"
   ]
  },
  {
   "cell_type": "code",
   "execution_count": 21,
   "metadata": {
    "collapsed": true
   },
   "outputs": [],
   "source": [
    "def get_itemset(table):\n",
    "    all_items = table['items'].apply( eval ).values\n",
    "    if (all_items is not None) and (len(all_items) > 0):\n",
    "        return set(reduce(lambda x, y: x + y, all_items))\n",
    "    else:\n",
    "        return []\n",
    "\n",
    "class ItemMap(object):\n",
    "    \n",
    "    NAME_TEMPL = 'item_{i}'\n",
    "    \n",
    "    def __init__(self):\n",
    "        self.ITEM_MAP = {}\n",
    "    \n",
    "    def __getitem__(self, item):\n",
    "        if item not in self.ITEM_MAP:\n",
    "            self.ITEM_MAP[item] = self.NAME_TEMPL.format(len(self.ITEM_MAP))\n",
    "        \n",
    "        return self.ITEM_MAP[item]"
   ]
  },
  {
   "cell_type": "code",
   "execution_count": 5,
   "metadata": {
    "collapsed": false
   },
   "outputs": [
    {
     "data": {
      "text/plain": [
       "1500"
      ]
     },
     "execution_count": 5,
     "metadata": {},
     "output_type": "execute_result"
    }
   ],
   "source": [
    "csv_files = glob.glob('../data/parsed/*.csv')\n",
    "\n",
    "len(csv_files)"
   ]
  },
  {
   "cell_type": "code",
   "execution_count": 22,
   "metadata": {
    "collapsed": false
   },
   "outputs": [],
   "source": [
    "# Get list of all items\n",
    "itemset = set()\n",
    "\n",
    "for _filepath in csv_files:\n",
    "    with open(_filepath, 'rb') as f:\n",
    "        _data = pd.read_csv(f)\n",
    "\n",
    "    itemset.update( get_itemset(_data) )\n",
    "\n",
    "\n",
    "itemset2 = filter(None, itemset)\n",
    "\n",
    "len(itemset2)"
   ]
  },
  {
   "cell_type": "markdown",
   "metadata": {},
   "source": [
    "Manually correct `itemset2` and lowercase items"
   ]
  },
  {
   "cell_type": "code",
   "execution_count": 2,
   "metadata": {
    "collapsed": false,
    "scrolled": true
   },
   "outputs": [],
   "source": [
    "itemset_2 = {'Completion of Acquisition or Disposition of Assets',\n",
    "             'Regulation FD Disclosure',\n",
    "             'Change of Servicer or Trustee',\n",
    "             'Temporary Suspension of Trading Under Registrant\\'s Employee Benefit Plans',\n",
    "             'Triggering Events That Accelerate or Increase a Direct Financial Obligation or an Obligation under an Off-Balance Sheet Arrangement',\n",
    "             'Financial statements and exhibits',\n",
    "             'Failure to Make a Required Distribution',\n",
    "             'Bankruptcy or Receivership',\n",
    "             'Other Events',\n",
    "             'Resignations of registrant\\'s directors',\n",
    "             \"Amendments to the Registrant's Code of Ethics or Waiver of a Provision of the Code of Ethics\",\n",
    "             'Acquisition or disposition of assets',\n",
    "             'Termination of a Material Definitive Agreement',\n",
    "             'Triggering Events That Accelerate or Increase a Direct Financial Obligation under an Off-Balance Sheet Arrangement',\n",
    "             'Mine Safety - Reporting of Shutdowns and Patterns of Violations',\n",
    "             'Change in Credit Enhancement or Other External Support',\n",
    "             'Unregistered Sales of Equity Securities',\n",
    "             'Change in fiscal year',\n",
    "             'Change in Shell Company Status',\n",
    "             'Results of Operations and Financial Condition',\n",
    "             'Material Modifications to Rights of Security Holders',\n",
    "             'Changes in Control of Registrant',\n",
    "             'Changes in control of registrant',\n",
    "             'Departure of Directors or Principal Officers; Election of Directors; Appointment of Principal Officers',\n",
    "             'Amendments to Articles of Incorporation or Bylaws; Change in Fiscal Year',\n",
    "             'Creation of a Direct Financial Obligation or an Obligation under an Off-Balance Sheet Arrangement of a Registrant',\n",
    "             'Shareholder Nominations Pursuant to Exchange Act Rule 14a-11',\n",
    "             'Non-Reliance on Previously Issued Financial Statements or a Related Audit Report or Completed Interim Review',\n",
    "             'Entry into a Material Definitive Agreement',\n",
    "             'Other events',\n",
    "             \"Changes in Registrant's Certifying Accountant\",\n",
    "             'Financial Statements and Exhibits',\n",
    "             'Submission of Matters to a Vote of Security Holders',\n",
    "             \"Changes in registrant's certifying accountant\",\n",
    "             'Securities Act Updating Disclosure',\n",
    "             'Bankruptcy or receivership',\n",
    "             'Departure of Directors or Certain Officers; Election of Directors; Appointment of Certain Officers: Compensatory Arrangements of Certain Officers',\n",
    "             'Cost Associated with Exit or Disposal Activities',\n",
    "             'Material Impairments',\n",
    "             'Changes in Registrant.s Certifying Accountant',\n",
    "             'Amendments to the Registrant.s Code of Ethics or Waiver of a Provision of the Code of Ethics',\n",
    "            }"
   ]
  },
  {
   "cell_type": "markdown",
   "metadata": {},
   "source": [
    "Save into a pickle"
   ]
  },
  {
   "cell_type": "code",
   "execution_count": 46,
   "metadata": {
    "collapsed": true
   },
   "outputs": [],
   "source": [
    "itemset_final = { it.lower() for it in itemset_2 }\n",
    "\n",
    "with open('../data/OHE_items/all_items.pk', 'wb') as f:\n",
    "    pk.dump(itemset_final, f)"
   ]
  },
  {
   "cell_type": "code",
   "execution_count": 3,
   "metadata": {
    "collapsed": true
   },
   "outputs": [],
   "source": [
    "with open('../data/OHE_items/all_items.pk', 'rb') as f:\n",
    "    itemset = pk.load(f)\n",
    "\n",
    "itemlist = list(itemset)"
   ]
  },
  {
   "cell_type": "code",
   "execution_count": 4,
   "metadata": {
    "collapsed": false
   },
   "outputs": [
    {
     "data": {
      "text/plain": [
       "36"
      ]
     },
     "execution_count": 4,
     "metadata": {},
     "output_type": "execute_result"
    }
   ],
   "source": [
    "len(itemset)"
   ]
  },
  {
   "cell_type": "code",
   "execution_count": 23,
   "metadata": {
    "collapsed": false
   },
   "outputs": [
    {
     "name": "stdout",
     "output_type": "stream",
     "text": [
      "CPU times: user 1min 24s, sys: 11.2 s, total: 1min 35s\n",
      "Wall time: 1min 39s\n"
     ]
    }
   ],
   "source": [
    "%%time\n",
    "all_in_one = pd.DataFrame()\n",
    "\n",
    "for _filepath in csv_files:\n",
    "    with open(_filepath, 'rb') as f:\n",
    "        _data = pd.read_csv(f)[['timestamp', 'ticker', 'items']]\n",
    "\n",
    "    all_in_one = pd.concat([all_in_one, _data], ignore_index=True)"
   ]
  },
  {
   "cell_type": "code",
   "execution_count": 24,
   "metadata": {
    "collapsed": false
   },
   "outputs": [
    {
     "data": {
      "text/plain": [
       "(195140, 3)"
      ]
     },
     "execution_count": 24,
     "metadata": {},
     "output_type": "execute_result"
    }
   ],
   "source": [
    "all_in_one.shape"
   ]
  },
  {
   "cell_type": "code",
   "execution_count": 69,
   "metadata": {
    "collapsed": false
   },
   "outputs": [
    {
     "name": "stdout",
     "output_type": "stream",
     "text": [
      "CPU times: user 1min 7s, sys: 932 ms, total: 1min 8s\n",
      "Wall time: 1min 8s\n"
     ]
    }
   ],
   "source": [
    "%%time\n",
    "\n",
    "ITEMS = {}\n",
    "for i,it in enumerate(itemlist):\n",
    "    ITEMS['item_{}'.format(i)] = it\n",
    "    all_in_one['item_{}'.format(i)] = 1.*all_in_one['items'].apply(lambda x: it in map(lambda x: x.lower(), eval(x)))"
   ]
  },
  {
   "cell_type": "code",
   "execution_count": 71,
   "metadata": {
    "collapsed": false
   },
   "outputs": [
    {
     "data": {
      "text/html": [
       "<div>\n",
       "<table border=\"1\" class=\"dataframe\">\n",
       "  <thead>\n",
       "    <tr style=\"text-align: right;\">\n",
       "      <th></th>\n",
       "      <th>timestamp</th>\n",
       "      <th>ticker</th>\n",
       "      <th>items</th>\n",
       "      <th>item_0</th>\n",
       "      <th>item_1</th>\n",
       "      <th>item_2</th>\n",
       "      <th>item_3</th>\n",
       "      <th>item_4</th>\n",
       "      <th>item_5</th>\n",
       "      <th>item_6</th>\n",
       "      <th>...</th>\n",
       "      <th>item_26</th>\n",
       "      <th>item_27</th>\n",
       "      <th>item_28</th>\n",
       "      <th>item_29</th>\n",
       "      <th>item_30</th>\n",
       "      <th>item_31</th>\n",
       "      <th>item_32</th>\n",
       "      <th>item_33</th>\n",
       "      <th>item_34</th>\n",
       "      <th>item_35</th>\n",
       "    </tr>\n",
       "  </thead>\n",
       "  <tbody>\n",
       "    <tr>\n",
       "      <th>0</th>\n",
       "      <td>2002-05-17 17:27:05</td>\n",
       "      <td>A</td>\n",
       "      <td>['Other events', 'Financial statements and exh...</td>\n",
       "      <td>0.0</td>\n",
       "      <td>0.0</td>\n",
       "      <td>0.0</td>\n",
       "      <td>0.0</td>\n",
       "      <td>0.0</td>\n",
       "      <td>0.0</td>\n",
       "      <td>0.0</td>\n",
       "      <td>...</td>\n",
       "      <td>0.0</td>\n",
       "      <td>0.0</td>\n",
       "      <td>0.0</td>\n",
       "      <td>0.0</td>\n",
       "      <td>0.0</td>\n",
       "      <td>0.0</td>\n",
       "      <td>0.0</td>\n",
       "      <td>0.0</td>\n",
       "      <td>0.0</td>\n",
       "      <td>0.0</td>\n",
       "    </tr>\n",
       "    <tr>\n",
       "      <th>1</th>\n",
       "      <td>2002-08-06 15:45:23</td>\n",
       "      <td>A</td>\n",
       "      <td>['Other events', 'Financial statements and exh...</td>\n",
       "      <td>0.0</td>\n",
       "      <td>0.0</td>\n",
       "      <td>0.0</td>\n",
       "      <td>0.0</td>\n",
       "      <td>0.0</td>\n",
       "      <td>0.0</td>\n",
       "      <td>0.0</td>\n",
       "      <td>...</td>\n",
       "      <td>0.0</td>\n",
       "      <td>0.0</td>\n",
       "      <td>0.0</td>\n",
       "      <td>0.0</td>\n",
       "      <td>0.0</td>\n",
       "      <td>0.0</td>\n",
       "      <td>0.0</td>\n",
       "      <td>0.0</td>\n",
       "      <td>0.0</td>\n",
       "      <td>0.0</td>\n",
       "    </tr>\n",
       "    <tr>\n",
       "      <th>2</th>\n",
       "      <td>2002-08-19 21:47:23</td>\n",
       "      <td>A</td>\n",
       "      <td>['Other events', 'Financial statements and exh...</td>\n",
       "      <td>0.0</td>\n",
       "      <td>0.0</td>\n",
       "      <td>0.0</td>\n",
       "      <td>0.0</td>\n",
       "      <td>0.0</td>\n",
       "      <td>0.0</td>\n",
       "      <td>0.0</td>\n",
       "      <td>...</td>\n",
       "      <td>0.0</td>\n",
       "      <td>0.0</td>\n",
       "      <td>0.0</td>\n",
       "      <td>0.0</td>\n",
       "      <td>0.0</td>\n",
       "      <td>0.0</td>\n",
       "      <td>0.0</td>\n",
       "      <td>0.0</td>\n",
       "      <td>0.0</td>\n",
       "      <td>0.0</td>\n",
       "    </tr>\n",
       "  </tbody>\n",
       "</table>\n",
       "<p>3 rows × 39 columns</p>\n",
       "</div>"
      ],
      "text/plain": [
       "             timestamp ticker  \\\n",
       "0  2002-05-17 17:27:05      A   \n",
       "1  2002-08-06 15:45:23      A   \n",
       "2  2002-08-19 21:47:23      A   \n",
       "\n",
       "                                               items  item_0  item_1  item_2  \\\n",
       "0  ['Other events', 'Financial statements and exh...     0.0     0.0     0.0   \n",
       "1  ['Other events', 'Financial statements and exh...     0.0     0.0     0.0   \n",
       "2  ['Other events', 'Financial statements and exh...     0.0     0.0     0.0   \n",
       "\n",
       "   item_3  item_4  item_5  item_6   ...     item_26  item_27  item_28  \\\n",
       "0     0.0     0.0     0.0     0.0   ...         0.0      0.0      0.0   \n",
       "1     0.0     0.0     0.0     0.0   ...         0.0      0.0      0.0   \n",
       "2     0.0     0.0     0.0     0.0   ...         0.0      0.0      0.0   \n",
       "\n",
       "   item_29  item_30  item_31  item_32  item_33  item_34  item_35  \n",
       "0      0.0      0.0      0.0      0.0      0.0      0.0      0.0  \n",
       "1      0.0      0.0      0.0      0.0      0.0      0.0      0.0  \n",
       "2      0.0      0.0      0.0      0.0      0.0      0.0      0.0  \n",
       "\n",
       "[3 rows x 39 columns]"
      ]
     },
     "execution_count": 71,
     "metadata": {},
     "output_type": "execute_result"
    }
   ],
   "source": [
    "all_in_one.head(3)"
   ]
  },
  {
   "cell_type": "code",
   "execution_count": 70,
   "metadata": {
    "collapsed": false
   },
   "outputs": [
    {
     "data": {
      "text/plain": [
       "(195140, 39)"
      ]
     },
     "execution_count": 70,
     "metadata": {},
     "output_type": "execute_result"
    }
   ],
   "source": [
    "all_in_one.shape"
   ]
  },
  {
   "cell_type": "code",
   "execution_count": 72,
   "metadata": {
    "collapsed": true
   },
   "outputs": [],
   "source": [
    "all_in_one.to_csv('../data/OHE_items/item_OHE.csv')"
   ]
  },
  {
   "cell_type": "code",
   "execution_count": 5,
   "metadata": {
    "collapsed": true
   },
   "outputs": [],
   "source": [
    "# Save the ITEM_MAP as well\n",
    "itemlist = list(itemset)\n",
    "ITEMS = {}\n",
    "for i,it in enumerate(itemlist):\n",
    "    ITEMS['item_{}'.format(i)] = it\n"
   ]
  },
  {
   "cell_type": "code",
   "execution_count": 7,
   "metadata": {
    "collapsed": false
   },
   "outputs": [],
   "source": [
    "with open('../data/OHE_items/ITEM_MAP.pk', 'wb') as f:\n",
    "    pk.dump(ITEMS, f)"
   ]
  },
  {
   "cell_type": "code",
   "execution_count": null,
   "metadata": {
    "collapsed": true
   },
   "outputs": [],
   "source": []
  }
 ],
 "metadata": {
  "anaconda-cloud": {},
  "kernelspec": {
   "display_name": "Python [conda env:nlp]",
   "language": "python",
   "name": "conda-env-nlp-py"
  },
  "language_info": {
   "codemirror_mode": {
    "name": "ipython",
    "version": 2
   },
   "file_extension": ".py",
   "mimetype": "text/x-python",
   "name": "python",
   "nbconvert_exporter": "python",
   "pygments_lexer": "ipython2",
   "version": "2.7.12"
  }
 },
 "nbformat": 4,
 "nbformat_minor": 1
}
