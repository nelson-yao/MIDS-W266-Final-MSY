{
 "cells": [
  {
   "cell_type": "markdown",
   "metadata": {},
   "source": [
    "## Parsing the 10-k file\n",
    "\n",
    "Basic data extraction from the raw datasets to a semi-structured table"
   ]
  },
  {
   "cell_type": "code",
   "execution_count": 1,
   "metadata": {
    "collapsed": true
   },
   "outputs": [],
   "source": [
    "import re\n",
    "import pandas as pd"
   ]
  },
  {
   "cell_type": "code",
   "execution_count": 2,
   "metadata": {
    "collapsed": true
   },
   "outputs": [],
   "source": [
    "with open('data/raw/8k-data/GOOG.txt', 'r') as f:\n",
    "    data = f.read()"
   ]
  },
  {
   "cell_type": "code",
   "execution_count": 3,
   "metadata": {
    "collapsed": false
   },
   "outputs": [],
   "source": [
    "# Split into documents\n",
    "documents = data.replace('<DOCUMENT>', '').split('</DOCUMENT>')"
   ]
  },
  {
   "cell_type": "code",
   "execution_count": 4,
   "metadata": {
    "collapsed": false
   },
   "outputs": [
    {
     "data": {
      "text/plain": [
       "115"
      ]
     },
     "execution_count": 4,
     "metadata": {},
     "output_type": "execute_result"
    }
   ],
   "source": [
    "len(documents)"
   ]
  },
  {
   "cell_type": "code",
   "execution_count": 5,
   "metadata": {
    "collapsed": true
   },
   "outputs": [],
   "source": [
    "reg_FILE = re.compile('FILE:(.*)')\n",
    "reg_TIME = re.compile('TIME:(.*)')\n",
    "reg_EVENTS = re.compile('EVENTS:(.*)')\n",
    "reg_ITEMS = re.compile('ITEM:(.*)')"
   ]
  },
  {
   "cell_type": "code",
   "execution_count": 6,
   "metadata": {
    "collapsed": false
   },
   "outputs": [],
   "source": [
    "def factory_parser(compiled_reg):\n",
    "    return lambda d: map(lambda x: x.replace(',', '').strip(), re.findall(compiled_reg, d))\n",
    "\n",
    "get_file = factory_parser(reg_FILE)\n",
    "get_time = factory_parser(reg_TIME)\n",
    "get_events = factory_parser(reg_EVENTS)\n",
    "get_items = factory_parser(reg_ITEMS)"
   ]
  },
  {
   "cell_type": "code",
   "execution_count": 7,
   "metadata": {
    "collapsed": false
   },
   "outputs": [],
   "source": [
    "META_LINES = ['FILE', 'TIME', 'EVENTS', 'ITEM']\n",
    "\n",
    "def get_text(doc):\n",
    "    lines = [ ln for ln in doc.split('\\n') if ln != ' ' ]\n",
    "    g_lines = [ ln for ln in lines if not any(map(lambda x: ln.startswith(x), META_LINES)) ]\n",
    "    return '\\n'.join( g_lines )"
   ]
  },
  {
   "cell_type": "code",
   "execution_count": 8,
   "metadata": {
    "collapsed": false
   },
   "outputs": [],
   "source": [
    "# Parse documents\n",
    "parsed_data = {\n",
    "    'file': map(get_file, documents),\n",
    "    'time': map(get_time, documents),\n",
    "    'events': map(get_events, documents),\n",
    "    'items': map(get_items, documents),\n",
    "    'text': map(get_text, documents)\n",
    " }"
   ]
  },
  {
   "cell_type": "code",
   "execution_count": 9,
   "metadata": {
    "collapsed": false
   },
   "outputs": [],
   "source": [
    "struct_data = pd.DataFrame.from_dict(parsed_data)"
   ]
  },
  {
   "cell_type": "code",
   "execution_count": 10,
   "metadata": {
    "collapsed": false
   },
   "outputs": [
    {
     "data": {
      "text/html": [
       "<div>\n",
       "<table border=\"1\" class=\"dataframe\">\n",
       "  <thead>\n",
       "    <tr style=\"text-align: right;\">\n",
       "      <th></th>\n",
       "      <th>events</th>\n",
       "      <th>file</th>\n",
       "      <th>items</th>\n",
       "      <th>text</th>\n",
       "      <th>time</th>\n",
       "    </tr>\n",
       "  </thead>\n",
       "  <tbody>\n",
       "    <tr>\n",
       "      <th>0</th>\n",
       "      <td>[Other events\\tFinancial statements and exhibits]</td>\n",
       "      <td>[GOOG/GOOG-8K-20040709060939.txt.gz]</td>\n",
       "      <td>[Other events, Financial statements and exhibits]</td>\n",
       "      <td>\\nTEXT:\\nOn July 6, 2004, Google Inc. (\"Google...</td>\n",
       "      <td>[20040709060939]</td>\n",
       "    </tr>\n",
       "    <tr>\n",
       "      <th>1</th>\n",
       "      <td>[Other Events\\tFinancial Statements and Exhibits]</td>\n",
       "      <td>[GOOG/GOOG-8K-20041008171511.txt.gz]</td>\n",
       "      <td>[Other Events, Financial Statements and Exhibits]</td>\n",
       "      <td>\\n\\nTEXT:\\nCheck the appropriate box below if ...</td>\n",
       "      <td>[20041008171511]</td>\n",
       "    </tr>\n",
       "    <tr>\n",
       "      <th>2</th>\n",
       "      <td>[Results of Operations and Financial Condition...</td>\n",
       "      <td>[GOOG/GOOG-8K-20041021162846.txt.gz]</td>\n",
       "      <td>[Results of Operations and Financial Condition...</td>\n",
       "      <td>\\n\\nTEXT:\\nCheck the appropriate box below if ...</td>\n",
       "      <td>[20041021162846]</td>\n",
       "    </tr>\n",
       "    <tr>\n",
       "      <th>3</th>\n",
       "      <td>[Other Events]</td>\n",
       "      <td>[GOOG/GOOG-8K-20041119172648.txt.gz]</td>\n",
       "      <td>[Other Events]</td>\n",
       "      <td>\\n\\nTEXT:\\nCheck the appropriate box below if ...</td>\n",
       "      <td>[20041119172648]</td>\n",
       "    </tr>\n",
       "    <tr>\n",
       "      <th>4</th>\n",
       "      <td>[Other Events\\tFinancial Statements and Exhibits]</td>\n",
       "      <td>[GOOG/GOOG-8K-20050113122048.txt.gz]</td>\n",
       "      <td>[Other Events, Financial Statements and Exhibits]</td>\n",
       "      <td>\\n\\nTEXT:\\nCheck the appropriate box below if ...</td>\n",
       "      <td>[20050113122048]</td>\n",
       "    </tr>\n",
       "  </tbody>\n",
       "</table>\n",
       "</div>"
      ],
      "text/plain": [
       "                                              events  \\\n",
       "0  [Other events\\tFinancial statements and exhibits]   \n",
       "1  [Other Events\\tFinancial Statements and Exhibits]   \n",
       "2  [Results of Operations and Financial Condition...   \n",
       "3                                     [Other Events]   \n",
       "4  [Other Events\\tFinancial Statements and Exhibits]   \n",
       "\n",
       "                                   file  \\\n",
       "0  [GOOG/GOOG-8K-20040709060939.txt.gz]   \n",
       "1  [GOOG/GOOG-8K-20041008171511.txt.gz]   \n",
       "2  [GOOG/GOOG-8K-20041021162846.txt.gz]   \n",
       "3  [GOOG/GOOG-8K-20041119172648.txt.gz]   \n",
       "4  [GOOG/GOOG-8K-20050113122048.txt.gz]   \n",
       "\n",
       "                                               items  \\\n",
       "0  [Other events, Financial statements and exhibits]   \n",
       "1  [Other Events, Financial Statements and Exhibits]   \n",
       "2  [Results of Operations and Financial Condition...   \n",
       "3                                     [Other Events]   \n",
       "4  [Other Events, Financial Statements and Exhibits]   \n",
       "\n",
       "                                                text              time  \n",
       "0  \\nTEXT:\\nOn July 6, 2004, Google Inc. (\"Google...  [20040709060939]  \n",
       "1  \\n\\nTEXT:\\nCheck the appropriate box below if ...  [20041008171511]  \n",
       "2  \\n\\nTEXT:\\nCheck the appropriate box below if ...  [20041021162846]  \n",
       "3  \\n\\nTEXT:\\nCheck the appropriate box below if ...  [20041119172648]  \n",
       "4  \\n\\nTEXT:\\nCheck the appropriate box below if ...  [20050113122048]  "
      ]
     },
     "execution_count": 10,
     "metadata": {},
     "output_type": "execute_result"
    }
   ],
   "source": [
    "struct_data.head()"
   ]
  },
  {
   "cell_type": "code",
   "execution_count": 11,
   "metadata": {
    "collapsed": true
   },
   "outputs": [],
   "source": [
    "struct_data.to_csv('data/parsed/8k-data/GOOG.csv')"
   ]
  },
  {
   "cell_type": "code",
   "execution_count": null,
   "metadata": {
    "collapsed": true
   },
   "outputs": [],
   "source": []
  }
 ],
 "metadata": {
  "anaconda-cloud": {},
  "kernelspec": {
   "display_name": "Python [conda env:nlp]",
   "language": "python",
   "name": "conda-env-nlp-py"
  },
  "language_info": {
   "codemirror_mode": {
    "name": "ipython",
    "version": 2
   },
   "file_extension": ".py",
   "mimetype": "text/x-python",
   "name": "python",
   "nbconvert_exporter": "python",
   "pygments_lexer": "ipython2",
   "version": "2.7.12"
  }
 },
 "nbformat": 4,
 "nbformat_minor": 1
}
